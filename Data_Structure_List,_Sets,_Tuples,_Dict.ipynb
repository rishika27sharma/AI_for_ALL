{
  "nbformat": 4,
  "nbformat_minor": 5,
  "metadata": {
    "kernelspec": {
      "display_name": "Python 3",
      "language": "python",
      "name": "python3"
    },
    "language_info": {
      "codemirror_mode": {
        "name": "ipython",
        "version": 3
      },
      "file_extension": ".py",
      "mimetype": "text/x-python",
      "name": "python",
      "nbconvert_exporter": "python",
      "pygments_lexer": "ipython3",
      "version": "3.7.4"
    },
    "colab": {
      "name": "Data Structure- List, Sets, Tuples, Dict.ipynb",
      "provenance": [],
      "collapsed_sections": []
    }
  },
  "cells": [
    {
      "cell_type": "markdown",
      "metadata": {
        "id": "vy_FeYDHHeJW"
      },
      "source": [
        "# <center> <u>Data Structures <u> </center>"
      ],
      "id": "vy_FeYDHHeJW"
    },
    {
      "cell_type": "markdown",
      "metadata": {
        "id": "f1JCjkUgHeJe"
      },
      "source": [
        "## 1. Lists\n",
        "\n",
        "Reference:- https://www.youtube.com/watch?v=ohCDWZgNIU0\n"
      ],
      "id": "f1JCjkUgHeJe"
    },
    {
      "cell_type": "markdown",
      "metadata": {
        "id": "rVyehh8LHeJg"
      },
      "source": [
        "<p style='text-align: right;'> 1+1+1 = 3 points</p>\n"
      ],
      "id": "rVyehh8LHeJg"
    },
    {
      "cell_type": "markdown",
      "metadata": {
        "id": "BoMsGmqlHeJi"
      },
      "source": [
        "#### 1.1 Create an empty list with the name ‘a’, print the value of a and type(a).\n"
      ],
      "id": "BoMsGmqlHeJi"
    },
    {
      "cell_type": "code",
      "metadata": {
        "id": "m2VHsCmWHeJk"
      },
      "source": [
        "# create empty list, name it 'a'\n",
        "a = []\n"
      ],
      "id": "m2VHsCmWHeJk",
      "execution_count": null,
      "outputs": []
    },
    {
      "cell_type": "code",
      "metadata": {
        "colab": {
          "base_uri": "https://localhost:8080/"
        },
        "id": "5OM71_WuHeJl",
        "outputId": "83b8986c-ab4f-4ef4-f04d-4288535d101d"
      },
      "source": [
        "# print the value of a\n",
        "print(a)\n"
      ],
      "id": "5OM71_WuHeJl",
      "execution_count": null,
      "outputs": [
        {
          "output_type": "stream",
          "text": [
            "[]\n"
          ],
          "name": "stdout"
        }
      ]
    },
    {
      "cell_type": "code",
      "metadata": {
        "colab": {
          "base_uri": "https://localhost:8080/"
        },
        "id": "0U_XcgJAHeJn",
        "outputId": "b31062ec-d4c2-4f95-b12b-ac56913deb5d"
      },
      "source": [
        "# print the type of a\n",
        "print(type(a))\n"
      ],
      "id": "0U_XcgJAHeJn",
      "execution_count": null,
      "outputs": [
        {
          "output_type": "stream",
          "text": [
            "<class 'list'>\n"
          ],
          "name": "stdout"
        }
      ]
    },
    {
      "cell_type": "markdown",
      "metadata": {
        "id": "335qJrn1HeJo"
      },
      "source": [
        "#### 1.2.Create a list , languages = ['R','Python', 'SAS', 'Scala', 42], "
      ],
      "id": "335qJrn1HeJo"
    },
    {
      "cell_type": "markdown",
      "metadata": {
        "id": "_Qo1O-W1HeJp"
      },
      "source": [
        "<p style='text-align: right;'> 1+1+1+1+1+1+1+1 = 7 points</p>\n"
      ],
      "id": "_Qo1O-W1HeJp"
    },
    {
      "cell_type": "code",
      "metadata": {
        "id": "b_PYfZhlHeJq"
      },
      "source": [
        "#code here\n",
        "languages = ['R','Python','SAS','Scala',42]"
      ],
      "id": "b_PYfZhlHeJq",
      "execution_count": null,
      "outputs": []
    },
    {
      "cell_type": "markdown",
      "metadata": {
        "id": "JrE5ODf_HeJr"
      },
      "source": [
        "Print the number of elements in the list"
      ],
      "id": "JrE5ODf_HeJr"
    },
    {
      "cell_type": "code",
      "metadata": {
        "colab": {
          "base_uri": "https://localhost:8080/"
        },
        "id": "FwwIACIeHeJr",
        "outputId": "6914d627-24a9-43fc-b9d1-f42e0b4750ce"
      },
      "source": [
        "#code here\n",
        "len(languages)"
      ],
      "id": "FwwIACIeHeJr",
      "execution_count": null,
      "outputs": [
        {
          "output_type": "execute_result",
          "data": {
            "text/plain": [
              "5"
            ]
          },
          "metadata": {
            "tags": []
          },
          "execution_count": 7
        }
      ]
    },
    {
      "cell_type": "markdown",
      "metadata": {
        "id": "mwyu0LNiHeJs"
      },
      "source": [
        "Using for loop iterate and print all the elements in the list"
      ],
      "id": "mwyu0LNiHeJs"
    },
    {
      "cell_type": "code",
      "metadata": {
        "colab": {
          "base_uri": "https://localhost:8080/"
        },
        "id": "byCFWsu_HeJt",
        "outputId": "f5f2aa99-5031-4526-a5a9-421f2499bb1e"
      },
      "source": [
        "#code here\n",
        "for i in languages:\n",
        "  print(i)\n"
      ],
      "id": "byCFWsu_HeJt",
      "execution_count": null,
      "outputs": [
        {
          "output_type": "stream",
          "text": [
            "R\n",
            "Python\n",
            "SAS\n",
            "Scala\n",
            "42\n"
          ],
          "name": "stdout"
        }
      ]
    },
    {
      "cell_type": "markdown",
      "metadata": {
        "id": "YNJgGVWcHeJt"
      },
      "source": [
        "Select the second item, 'Python' and store it in a new variable named 'temp'"
      ],
      "id": "YNJgGVWcHeJt"
    },
    {
      "cell_type": "code",
      "metadata": {
        "id": "Ezkp2UkQHeJu"
      },
      "source": [
        "#code here\n",
        "temp = languages[1]"
      ],
      "id": "Ezkp2UkQHeJu",
      "execution_count": null,
      "outputs": []
    },
    {
      "cell_type": "markdown",
      "metadata": {
        "id": "XqJ_DmZgHeJu"
      },
      "source": [
        "Print the value of temp and type(temp)"
      ],
      "id": "XqJ_DmZgHeJu"
    },
    {
      "cell_type": "code",
      "metadata": {
        "colab": {
          "base_uri": "https://localhost:8080/"
        },
        "id": "uGipahdxHeJv",
        "outputId": "b01c7a21-cae1-4f8c-f56e-9014aec6651a"
      },
      "source": [
        "#code here\n",
        "print(temp)\n",
        "print(type(temp))\n"
      ],
      "id": "uGipahdxHeJv",
      "execution_count": null,
      "outputs": [
        {
          "output_type": "stream",
          "text": [
            "Python\n",
            "<class 'str'>\n"
          ],
          "name": "stdout"
        }
      ]
    },
    {
      "cell_type": "markdown",
      "metadata": {
        "id": "Pf14SYAeHeJw"
      },
      "source": [
        "Using list comprehension, print the last two elemets of list"
      ],
      "id": "Pf14SYAeHeJw"
    },
    {
      "cell_type": "code",
      "metadata": {
        "colab": {
          "base_uri": "https://localhost:8080/"
        },
        "id": "GjyO-j5kHeJw",
        "outputId": "0fa1cf5a-29ed-499c-9f3e-650b692a98ba"
      },
      "source": [
        "# code here\n",
        "print(languages[-2:])"
      ],
      "id": "GjyO-j5kHeJw",
      "execution_count": null,
      "outputs": [
        {
          "output_type": "stream",
          "text": [
            "['Scala', 42]\n"
          ],
          "name": "stdout"
        }
      ]
    },
    {
      "cell_type": "markdown",
      "metadata": {
        "id": "ipBLsLKXHeJx"
      },
      "source": [
        "Append the element 'Java' in the list"
      ],
      "id": "ipBLsLKXHeJx"
    },
    {
      "cell_type": "code",
      "metadata": {
        "colab": {
          "base_uri": "https://localhost:8080/"
        },
        "id": "jSGQMcP_HeJx",
        "outputId": "c7656865-2f09-491b-9b73-280f9ef084e1"
      },
      "source": [
        "#code here\n",
        "languages.append('Java')\n",
        "print(languages)\n"
      ],
      "id": "jSGQMcP_HeJx",
      "execution_count": null,
      "outputs": [
        {
          "output_type": "stream",
          "text": [
            "['R', 'Python', 'SAS', 'Scala', 'Java']\n"
          ],
          "name": "stdout"
        }
      ]
    },
    {
      "cell_type": "markdown",
      "metadata": {
        "id": "LDhp_BTZHeJy"
      },
      "source": [
        "Remove the element 42 from the list and print the list"
      ],
      "id": "LDhp_BTZHeJy"
    },
    {
      "cell_type": "code",
      "metadata": {
        "colab": {
          "base_uri": "https://localhost:8080/"
        },
        "id": "WpQyiBWcHeJy",
        "outputId": "3d371477-3796-4c3b-cd23-afb52de8bc93"
      },
      "source": [
        "#code here\n",
        "languages.pop(4)\n",
        "print(languages)"
      ],
      "id": "WpQyiBWcHeJy",
      "execution_count": null,
      "outputs": [
        {
          "output_type": "stream",
          "text": [
            "['R', 'Python', 'SAS', 'Scala']\n"
          ],
          "name": "stdout"
        }
      ]
    },
    {
      "cell_type": "markdown",
      "metadata": {
        "id": "kdNMN9FNHeJz"
      },
      "source": [
        "#### 1.3. Create a list, colors = [‘Red’, ‘Blue’, ‘White’]"
      ],
      "id": "kdNMN9FNHeJz"
    },
    {
      "cell_type": "markdown",
      "metadata": {
        "id": "SZ46h67vHeJz"
      },
      "source": [
        "<p style='text-align: right;'> 1+1+1+1+1+1+1 = 6 points</p>\n"
      ],
      "id": "SZ46h67vHeJz"
    },
    {
      "cell_type": "code",
      "metadata": {
        "id": "Mpxs61CUHeJ0"
      },
      "source": [
        "#code here\n",
        "colors =['Red','Blue','White']\n"
      ],
      "id": "Mpxs61CUHeJ0",
      "execution_count": null,
      "outputs": []
    },
    {
      "cell_type": "markdown",
      "metadata": {
        "id": "t2yIamI8HeJ0"
      },
      "source": [
        "Append the element 'Black' to colors"
      ],
      "id": "t2yIamI8HeJ0"
    },
    {
      "cell_type": "code",
      "metadata": {
        "colab": {
          "base_uri": "https://localhost:8080/"
        },
        "id": "J60LuBiaHeJ1",
        "outputId": "42944a3b-91e4-41f3-ae34-c622b718c04c"
      },
      "source": [
        "#code here\n",
        "colors.append('Black')\n",
        "print(colors)"
      ],
      "id": "J60LuBiaHeJ1",
      "execution_count": null,
      "outputs": [
        {
          "output_type": "stream",
          "text": [
            "['Red', 'Blue', 'White', 'Black']\n"
          ],
          "name": "stdout"
        }
      ]
    },
    {
      "cell_type": "markdown",
      "metadata": {
        "id": "YHvjW48uHeJ2"
      },
      "source": [
        "Append the color 'Orange' to second position (index=1) and print the list"
      ],
      "id": "YHvjW48uHeJ2"
    },
    {
      "cell_type": "code",
      "metadata": {
        "colab": {
          "base_uri": "https://localhost:8080/"
        },
        "id": "IDH4WJYlHeJ2",
        "outputId": "33e8a8b7-cfea-449c-e066-b3df418f54c2"
      },
      "source": [
        "# code here\n",
        "colors.insert(1,'Orange')\n",
        "print(colors)\n"
      ],
      "id": "IDH4WJYlHeJ2",
      "execution_count": null,
      "outputs": [
        {
          "output_type": "stream",
          "text": [
            "['Red', 'Orange', 'Blue', 'White', 'Black']\n"
          ],
          "name": "stdout"
        }
      ]
    },
    {
      "cell_type": "markdown",
      "metadata": {
        "id": "KLwPOTTMHeJ3"
      },
      "source": [
        "Print the list\n"
      ],
      "id": "KLwPOTTMHeJ3"
    },
    {
      "cell_type": "code",
      "metadata": {
        "colab": {
          "base_uri": "https://localhost:8080/"
        },
        "id": "caE0eKTmHeJ3",
        "outputId": "c99dad7f-7c7b-493e-9706-dbe409f521bc"
      },
      "source": [
        "# code here\n",
        "print(colors)"
      ],
      "id": "caE0eKTmHeJ3",
      "execution_count": null,
      "outputs": [
        {
          "output_type": "stream",
          "text": [
            "['Red', 'Orange', 'Blue', 'White', 'Black']\n"
          ],
          "name": "stdout"
        }
      ]
    },
    {
      "cell_type": "markdown",
      "metadata": {
        "id": "edY_Pgl8HeJ3"
      },
      "source": [
        "Create another list, colors2 = [‘Grey’, ‘Sky Blue’]"
      ],
      "id": "edY_Pgl8HeJ3"
    },
    {
      "cell_type": "code",
      "metadata": {
        "id": "iU1WEwPUHeJ4",
        "colab": {
          "base_uri": "https://localhost:8080/"
        },
        "outputId": "52314e47-3d77-4d95-815c-31bf1e87ba50"
      },
      "source": [
        "# code here\n",
        "colors2 = ['Grey','Sky Blue']\n",
        "print(colors2)"
      ],
      "id": "iU1WEwPUHeJ4",
      "execution_count": null,
      "outputs": [
        {
          "output_type": "stream",
          "text": [
            "['Grey', 'Sky Blue']\n"
          ],
          "name": "stdout"
        }
      ]
    },
    {
      "cell_type": "markdown",
      "metadata": {
        "id": "HkGsnOV_HeJ4"
      },
      "source": [
        "Add the elements of colors2 to colors using extend function in the list"
      ],
      "id": "HkGsnOV_HeJ4"
    },
    {
      "cell_type": "code",
      "metadata": {
        "colab": {
          "base_uri": "https://localhost:8080/"
        },
        "id": "V0iezdcDHeJ5",
        "outputId": "7a74b4d5-fa2f-4228-ec5e-816c0e4a603d"
      },
      "source": [
        "#code here\n",
        "colors.extend(colors2)\n",
        "print(colors)"
      ],
      "id": "V0iezdcDHeJ5",
      "execution_count": null,
      "outputs": [
        {
          "output_type": "stream",
          "text": [
            "['Red', 'Orange', 'Blue', 'White', 'Black', 'Grey', 'Sky Blue']\n"
          ],
          "name": "stdout"
        }
      ]
    },
    {
      "cell_type": "markdown",
      "metadata": {
        "id": "qveKIRE_HeJ5"
      },
      "source": [
        "Print len of colors and its elements"
      ],
      "id": "qveKIRE_HeJ5"
    },
    {
      "cell_type": "code",
      "metadata": {
        "colab": {
          "base_uri": "https://localhost:8080/"
        },
        "id": "jjI-pgrYHeJ5",
        "outputId": "4e9fa797-4cba-450b-aea7-a5289a6961fc"
      },
      "source": [
        "# code here\n",
        "len(colors)\n"
      ],
      "id": "jjI-pgrYHeJ5",
      "execution_count": null,
      "outputs": [
        {
          "output_type": "execute_result",
          "data": {
            "text/plain": [
              "7"
            ]
          },
          "metadata": {
            "tags": []
          },
          "execution_count": 10
        }
      ]
    },
    {
      "cell_type": "markdown",
      "metadata": {
        "id": "gAcN6nAXHeJ6"
      },
      "source": [
        "Sort the list and print it."
      ],
      "id": "gAcN6nAXHeJ6"
    },
    {
      "cell_type": "code",
      "metadata": {
        "colab": {
          "base_uri": "https://localhost:8080/"
        },
        "id": "m_FX3wQFHeJ9",
        "outputId": "a2bda4df-4e0c-4148-e58f-c71895cb8824"
      },
      "source": [
        "# code here\n",
        "colors.sort()\n",
        "print(colors)"
      ],
      "id": "m_FX3wQFHeJ9",
      "execution_count": null,
      "outputs": [
        {
          "output_type": "stream",
          "text": [
            "['Black', 'Blue', 'Grey', 'Orange', 'Red', 'Sky Blue', 'White']\n"
          ],
          "name": "stdout"
        }
      ]
    },
    {
      "cell_type": "markdown",
      "metadata": {
        "id": "ZSn4xkJNHeJ9"
      },
      "source": [
        "#### 1.4. Create a string, sent = ‘Coronavirus Caused Lockdowns Around The World.”"
      ],
      "id": "ZSn4xkJNHeJ9"
    },
    {
      "cell_type": "markdown",
      "metadata": {
        "id": "qtYiPHfRHeJ-"
      },
      "source": [
        "<p style='text-align: right;'> 7 points</p>\n"
      ],
      "id": "qtYiPHfRHeJ-"
    },
    {
      "cell_type": "code",
      "metadata": {
        "id": "SWTA7-dfHeJ-"
      },
      "source": [
        "# code here\n",
        "sent = 'Coronavirus Caused Lockdowns Around The World'"
      ],
      "id": "SWTA7-dfHeJ-",
      "execution_count": null,
      "outputs": []
    },
    {
      "cell_type": "markdown",
      "metadata": {
        "id": "ew4dSiRpHeJ-"
      },
      "source": [
        "Use split function to convert the string into a list of words and save it in variable words and print the same"
      ],
      "id": "ew4dSiRpHeJ-"
    },
    {
      "cell_type": "code",
      "metadata": {
        "colab": {
          "base_uri": "https://localhost:8080/"
        },
        "id": "f9QTcBZVHeJ_",
        "outputId": "c9b8a1c2-d67a-49c5-d0fa-4d40cf2c5b48"
      },
      "source": [
        "# code here\n",
        "print(f\"{sent}\".split( ))"
      ],
      "id": "f9QTcBZVHeJ_",
      "execution_count": null,
      "outputs": [
        {
          "output_type": "stream",
          "text": [
            "['Coronavirus', 'Caused', 'Lockdowns', 'Around', 'The', 'World']\n"
          ],
          "name": "stdout"
        }
      ]
    },
    {
      "cell_type": "markdown",
      "metadata": {
        "id": "DJ8DOKgiHeJ_"
      },
      "source": [
        "Using list comprehensions, convert each word in the list to lower case and store it in variable words_lower. \n",
        "Print words_lower"
      ],
      "id": "DJ8DOKgiHeJ_"
    },
    {
      "cell_type": "code",
      "metadata": {
        "colab": {
          "base_uri": "https://localhost:8080/"
        },
        "id": "Yc9dMC-GHeKA",
        "outputId": "84bffe85-7a08-4cdf-b4e8-1280f67ab546"
      },
      "source": [
        "# code here\n",
        "words_lower =[i.lower() for i in sent.split()] \n",
        "print(words_lower)"
      ],
      "id": "Yc9dMC-GHeKA",
      "execution_count": null,
      "outputs": [
        {
          "output_type": "stream",
          "text": [
            "['coronavirus', 'caused', 'lockdowns', 'around', 'the', 'world']\n"
          ],
          "name": "stdout"
        }
      ]
    },
    {
      "cell_type": "markdown",
      "metadata": {
        "id": "rFezS93UHeKA"
      },
      "source": [
        "Check whether ‘country’ is in the list"
      ],
      "id": "rFezS93UHeKA"
    },
    {
      "cell_type": "code",
      "metadata": {
        "id": "LBHTqR1YHeKB",
        "colab": {
          "base_uri": "https://localhost:8080/"
        },
        "outputId": "6e84dc44-20d1-4df8-bfc6-15378db765a5"
      },
      "source": [
        "# code here\n",
        "for i in sent:\n",
        "\n",
        "  if 'country' in sent:\n",
        "   print(True)\n",
        "  else:\n",
        "    print(False)"
      ],
      "id": "LBHTqR1YHeKB",
      "execution_count": null,
      "outputs": [
        {
          "output_type": "stream",
          "text": [
            "False\n",
            "False\n",
            "False\n",
            "False\n",
            "False\n",
            "False\n",
            "False\n",
            "False\n",
            "False\n",
            "False\n",
            "False\n",
            "False\n",
            "False\n",
            "False\n",
            "False\n",
            "False\n",
            "False\n",
            "False\n",
            "False\n",
            "False\n",
            "False\n",
            "False\n",
            "False\n",
            "False\n",
            "False\n",
            "False\n",
            "False\n",
            "False\n",
            "False\n",
            "False\n",
            "False\n",
            "False\n",
            "False\n",
            "False\n",
            "False\n",
            "False\n",
            "False\n",
            "False\n",
            "False\n",
            "False\n",
            "False\n",
            "False\n",
            "False\n",
            "False\n",
            "False\n"
          ],
          "name": "stdout"
        }
      ]
    },
    {
      "cell_type": "markdown",
      "metadata": {
        "id": "TMv2u5QxHeKB"
      },
      "source": [
        "Remove the element ‘the’ from the list and print the list."
      ],
      "id": "TMv2u5QxHeKB"
    },
    {
      "cell_type": "code",
      "metadata": {
        "id": "6HcwiJWIHeKC",
        "colab": {
          "base_uri": "https://localhost:8080/"
        },
        "outputId": "ea43bf52-431a-4ec7-b857-b3eb8e81c948"
      },
      "source": [
        "# code here\n",
        "sent = ['coronavirus', 'caused', 'lockdowns', 'around', 'the', 'world']\n",
        "sent.remove('the')\n",
        "print(sent)"
      ],
      "id": "6HcwiJWIHeKC",
      "execution_count": null,
      "outputs": [
        {
          "output_type": "stream",
          "text": [
            "['coronavirus', 'caused', 'lockdowns', 'around', 'world']\n"
          ],
          "name": "stdout"
        }
      ]
    },
    {
      "cell_type": "markdown",
      "metadata": {
        "id": "dm0HOs8BHeKC"
      },
      "source": [
        "Select the first 4 words from the list words_lower using slicing and store them in a new variable x4"
      ],
      "id": "dm0HOs8BHeKC"
    },
    {
      "cell_type": "code",
      "metadata": {
        "id": "JLo2xQKTHeKD"
      },
      "source": [
        "#code here\n",
        "words_lower = ['coronavirus', 'caused', 'lockdowns', 'around', 'the', 'world']\n",
        "#x4 =[]\n",
        "#x4.append(words_lower[0:4])\n",
        "words_lower[0:4]=x4\n"
      ],
      "id": "JLo2xQKTHeKD",
      "execution_count": null,
      "outputs": []
    },
    {
      "cell_type": "code",
      "metadata": {
        "id": "gJ3FKQggHeKD",
        "colab": {
          "base_uri": "https://localhost:8080/"
        },
        "outputId": "18fdfad9-8a6b-4564-c786-e0c5ffb799df"
      },
      "source": [
        "# print x4\n",
        "print(x4)"
      ],
      "id": "gJ3FKQggHeKD",
      "execution_count": null,
      "outputs": [
        {
          "output_type": "stream",
          "text": [
            "[['coronavirus', 'caused', 'lockdowns', 'around']]\n"
          ],
          "name": "stdout"
        }
      ]
    },
    {
      "cell_type": "markdown",
      "metadata": {
        "id": "lPpxQIo9HeKE"
      },
      "source": [
        "Convert the list of elements to single string using join function and print it"
      ],
      "id": "lPpxQIo9HeKE"
    },
    {
      "cell_type": "code",
      "metadata": {
        "id": "9FbpASKeHeKE",
        "colab": {
          "base_uri": "https://localhost:8080/"
        },
        "outputId": "5655c8f9-17c5-4244-df45-fc8563159a81"
      },
      "source": [
        "#code here\n",
        "words_lower = ['coronavirus', 'caused', 'lockdowns', 'around', 'the', 'world']\n",
        "print(\" \".join(words_lower))"
      ],
      "id": "9FbpASKeHeKE",
      "execution_count": null,
      "outputs": [
        {
          "output_type": "stream",
          "text": [
            "coronavirus caused lockdowns around the world\n"
          ],
          "name": "stdout"
        }
      ]
    },
    {
      "cell_type": "markdown",
      "metadata": {
        "id": "c-azAjBIHeKF"
      },
      "source": [
        "## 2. Sets\n",
        "\n",
        "Reference:-https://www.youtube.com/watch?v=sBvaPopWOmQ"
      ],
      "id": "c-azAjBIHeKF"
    },
    {
      "cell_type": "markdown",
      "metadata": {
        "id": "QAgGcQTpHeKF"
      },
      "source": [
        "#### 2.1. Create stud_grades = ['A','A','B','C','C','F']"
      ],
      "id": "QAgGcQTpHeKF"
    },
    {
      "cell_type": "markdown",
      "metadata": {
        "id": "Xuunh5FEHeKG"
      },
      "source": [
        "<p style='text-align: right;'> 7 points</p>\n"
      ],
      "id": "Xuunh5FEHeKG"
    },
    {
      "cell_type": "code",
      "metadata": {
        "id": "7XEVy3odHeKG"
      },
      "source": [
        "#code here\n",
        "stud_grades =['A','A','B','C','C','F']"
      ],
      "id": "7XEVy3odHeKG",
      "execution_count": null,
      "outputs": []
    },
    {
      "cell_type": "markdown",
      "metadata": {
        "id": "8_CO9hQ9HeKG"
      },
      "source": [
        "Print the len of stud_grades"
      ],
      "id": "8_CO9hQ9HeKG"
    },
    {
      "cell_type": "code",
      "metadata": {
        "id": "yjn79MczHeKH",
        "colab": {
          "base_uri": "https://localhost:8080/"
        },
        "outputId": "fbfe12aa-5019-454d-91bb-be132fc0b8e9"
      },
      "source": [
        "#code here\n",
        "len(stud_grades)"
      ],
      "id": "yjn79MczHeKH",
      "execution_count": null,
      "outputs": [
        {
          "output_type": "execute_result",
          "data": {
            "text/plain": [
              "6"
            ]
          },
          "metadata": {
            "tags": []
          },
          "execution_count": 37
        }
      ]
    },
    {
      "cell_type": "markdown",
      "metadata": {
        "id": "M_JWJu7CHeKH"
      },
      "source": [
        "Create a new variable, stud_grades_set = set(stud_grades)"
      ],
      "id": "M_JWJu7CHeKH"
    },
    {
      "cell_type": "code",
      "metadata": {
        "id": "ZoGIl_xKHeKI"
      },
      "source": [
        "#code here\n",
        "stud_grades_set =set(stud_grades)"
      ],
      "id": "ZoGIl_xKHeKI",
      "execution_count": null,
      "outputs": []
    },
    {
      "cell_type": "markdown",
      "metadata": {
        "id": "L4Asa-W7HeKI"
      },
      "source": [
        "Print stud_grades_set. "
      ],
      "id": "L4Asa-W7HeKI"
    },
    {
      "cell_type": "code",
      "metadata": {
        "id": "GWsah9JOHeKI",
        "colab": {
          "base_uri": "https://localhost:8080/"
        },
        "outputId": "5d5814e8-a3b4-4280-ac69-bb207a9bacf8"
      },
      "source": [
        "#code here\n",
        "print(stud_grades_set)"
      ],
      "id": "GWsah9JOHeKI",
      "execution_count": null,
      "outputs": [
        {
          "output_type": "stream",
          "text": [
            "{'A', 'F', 'B', 'C'}\n"
          ],
          "name": "stdout"
        }
      ]
    },
    {
      "cell_type": "markdown",
      "metadata": {
        "id": "cZarX7ycHeKJ"
      },
      "source": [
        "print the type of stud_grades and stud_grades_set and print their corresponding elements. Try to understand the difference between them."
      ],
      "id": "cZarX7ycHeKJ"
    },
    {
      "cell_type": "code",
      "metadata": {
        "id": "UFFVepWjHeKJ",
        "colab": {
          "base_uri": "https://localhost:8080/"
        },
        "outputId": "f6a9cc5c-dcb1-46bf-b657-545ebdf5481d"
      },
      "source": [
        "#code here\n",
        "print(type(stud_grades))\n",
        "print(type(stud_grades_set))\n"
      ],
      "id": "UFFVepWjHeKJ",
      "execution_count": null,
      "outputs": [
        {
          "output_type": "stream",
          "text": [
            "<class 'list'>\n",
            "<class 'set'>\n"
          ],
          "name": "stdout"
        }
      ]
    },
    {
      "cell_type": "markdown",
      "metadata": {
        "id": "crGfbFmrHeKK"
      },
      "source": [
        "Add a new element ‘G’ to stud_grades_set"
      ],
      "id": "crGfbFmrHeKK"
    },
    {
      "cell_type": "code",
      "metadata": {
        "id": "3eP8ZbuvHeKK",
        "colab": {
          "base_uri": "https://localhost:8080/"
        },
        "outputId": "919ed6c8-b4cb-4bca-bb31-a54dee541a34"
      },
      "source": [
        "#code here\n",
        "stud_grades_set.add('G')\n",
        "print(stud_grades_set)\n"
      ],
      "id": "3eP8ZbuvHeKK",
      "execution_count": 42,
      "outputs": [
        {
          "output_type": "stream",
          "text": [
            "{'A', 'F', 'B', 'G', 'C'}\n"
          ],
          "name": "stdout"
        }
      ]
    },
    {
      "cell_type": "markdown",
      "metadata": {
        "id": "4X_94VZHHeKL"
      },
      "source": [
        "Add element 'F' to stud_grades_set. and print it."
      ],
      "id": "4X_94VZHHeKL"
    },
    {
      "cell_type": "code",
      "metadata": {
        "id": "nn6hMyfeHeKL",
        "colab": {
          "base_uri": "https://localhost:8080/"
        },
        "outputId": "dfd97c2d-d435-4638-cb94-0e80dbcd1020"
      },
      "source": [
        "#code here\n",
        "stud_grades_set.add('F')\n",
        "print(stud_grades_set)\n"
      ],
      "id": "nn6hMyfeHeKL",
      "execution_count": 43,
      "outputs": [
        {
          "output_type": "stream",
          "text": [
            "{'A', 'F', 'B', 'G', 'C'}\n"
          ],
          "name": "stdout"
        }
      ]
    },
    {
      "cell_type": "markdown",
      "metadata": {
        "id": "GzrynnlzHeKM"
      },
      "source": [
        "!!Did you notice? set doesn't add an element if it's already present in it, unlike lists."
      ],
      "id": "GzrynnlzHeKM"
    },
    {
      "cell_type": "markdown",
      "metadata": {
        "id": "QYNk66gPHeKM"
      },
      "source": [
        "Remove ‘F’ from stud_grades_set"
      ],
      "id": "QYNk66gPHeKM"
    },
    {
      "cell_type": "code",
      "metadata": {
        "id": "NfSisDMBHeKN",
        "colab": {
          "base_uri": "https://localhost:8080/"
        },
        "outputId": "f2d932c2-cba0-4463-fd3a-9aa5a1ce403b"
      },
      "source": [
        "#code here\n",
        "stud_grades_set = {'A', 'F', 'B', 'G', 'C'}\n",
        "stud_grades_set.remove('F')\n",
        "print(stud_grades_set)\n",
        "\n"
      ],
      "id": "NfSisDMBHeKN",
      "execution_count": 46,
      "outputs": [
        {
          "output_type": "stream",
          "text": [
            "{'A', 'B', 'G', 'C'}\n"
          ],
          "name": "stdout"
        }
      ]
    },
    {
      "cell_type": "markdown",
      "metadata": {
        "id": "83wQTjVJHeKN"
      },
      "source": [
        "Print the elements and the length of stud_grades_set"
      ],
      "id": "83wQTjVJHeKN"
    },
    {
      "cell_type": "code",
      "metadata": {
        "id": "JiceZeqJHeKN",
        "colab": {
          "base_uri": "https://localhost:8080/"
        },
        "outputId": "c1e753e9-5d21-4589-cffd-c36ac3b4de8e"
      },
      "source": [
        "#code here\n",
        "print(stud_grades_set)\n",
        "len(stud_grades_set)\n"
      ],
      "id": "JiceZeqJHeKN",
      "execution_count": 47,
      "outputs": [
        {
          "output_type": "stream",
          "text": [
            "{'A', 'B', 'G', 'C'}\n"
          ],
          "name": "stdout"
        },
        {
          "output_type": "execute_result",
          "data": {
            "text/plain": [
              "4"
            ]
          },
          "metadata": {
            "tags": []
          },
          "execution_count": 47
        }
      ]
    },
    {
      "cell_type": "markdown",
      "metadata": {
        "id": "xIToMbWLHeKO"
      },
      "source": [
        "#### 2.2. Create colors = [‘red’,’blue’,’orange’], and fruits = [‘orange’,’grapes’,’apples’] "
      ],
      "id": "xIToMbWLHeKO"
    },
    {
      "cell_type": "markdown",
      "metadata": {
        "id": "FUxdxfbEHeKO"
      },
      "source": [
        "<p style='text-align: right;'> 6 points</p>\n"
      ],
      "id": "FUxdxfbEHeKO"
    },
    {
      "cell_type": "code",
      "metadata": {
        "id": "IVYYLb6JHeKO"
      },
      "source": [
        "#code here\n",
        "colors =['red','blue','orange']\n",
        "fruits =['orange','grapes','apples']"
      ],
      "id": "IVYYLb6JHeKO",
      "execution_count": 4,
      "outputs": []
    },
    {
      "cell_type": "markdown",
      "metadata": {
        "id": "foXmruWfHeKP"
      },
      "source": [
        "Print color and fruits"
      ],
      "id": "foXmruWfHeKP"
    },
    {
      "cell_type": "code",
      "metadata": {
        "id": "TT4_48fdHeKP",
        "colab": {
          "base_uri": "https://localhost:8080/"
        },
        "outputId": "31274a5c-c0c7-42a8-bfe0-7a277ac40181"
      },
      "source": [
        "#code here\n",
        "print(colors)\n",
        "print(fruits)"
      ],
      "id": "TT4_48fdHeKP",
      "execution_count": 5,
      "outputs": [
        {
          "output_type": "stream",
          "text": [
            "['red', 'blue', 'orange']\n",
            "['orange', 'grapes', 'apples']\n"
          ],
          "name": "stdout"
        }
      ]
    },
    {
      "cell_type": "markdown",
      "metadata": {
        "id": "3KTMrWAGHeKT"
      },
      "source": [
        "Create colors_set, and fruits_set. (using set() ) and print them"
      ],
      "id": "3KTMrWAGHeKT"
    },
    {
      "cell_type": "code",
      "metadata": {
        "id": "TmXRotw3HeKU",
        "colab": {
          "base_uri": "https://localhost:8080/"
        },
        "outputId": "e628dc55-b8b8-4cf1-8dd3-24c4153db4b4"
      },
      "source": [
        "#code here\n",
        "colors_set = set(colors)\n",
        "fruit_set = set(fruits)\n",
        "print(colors_set)\n",
        "print(fruit_set)\n"
      ],
      "id": "TmXRotw3HeKU",
      "execution_count": 6,
      "outputs": [
        {
          "output_type": "stream",
          "text": [
            "{'blue', 'red', 'orange'}\n",
            "{'orange', 'grapes', 'apples'}\n"
          ],
          "name": "stdout"
        }
      ]
    },
    {
      "cell_type": "markdown",
      "metadata": {
        "id": "zA5af2nsHeKU"
      },
      "source": [
        "Find the union of both the sets."
      ],
      "id": "zA5af2nsHeKU"
    },
    {
      "cell_type": "code",
      "metadata": {
        "id": "YaeMLbUnHeKV",
        "colab": {
          "base_uri": "https://localhost:8080/"
        },
        "outputId": "0348df23-c0fc-4b57-e967-71b23a69ff10"
      },
      "source": [
        "#code here\n",
        "print(colors_set | fruit_set)\n"
      ],
      "id": "YaeMLbUnHeKV",
      "execution_count": 7,
      "outputs": [
        {
          "output_type": "stream",
          "text": [
            "{'blue', 'red', 'orange', 'grapes', 'apples'}\n"
          ],
          "name": "stdout"
        }
      ]
    },
    {
      "cell_type": "markdown",
      "metadata": {
        "id": "qXf1iMSZHeKW"
      },
      "source": [
        "Find the intersection of both the sets "
      ],
      "id": "qXf1iMSZHeKW"
    },
    {
      "cell_type": "code",
      "metadata": {
        "id": "O3Y-cTVwHeKX",
        "colab": {
          "base_uri": "https://localhost:8080/"
        },
        "outputId": "612d3fad-1da0-4126-a3d7-fdb7d46bb413"
      },
      "source": [
        "#code here\n",
        "\n",
        "colors_set = set(colors)\n",
        "fruit_set = set(fruits)\n",
        "\n",
        "print(colors_set & fruit_set)\n"
      ],
      "id": "O3Y-cTVwHeKX",
      "execution_count": 8,
      "outputs": [
        {
          "output_type": "stream",
          "text": [
            "{'orange'}\n"
          ],
          "name": "stdout"
        }
      ]
    },
    {
      "cell_type": "markdown",
      "metadata": {
        "id": "9LNWf7iTHeKY"
      },
      "source": [
        "Find the elements which are Fruits but not colors (using set.difference() )"
      ],
      "id": "9LNWf7iTHeKY"
    },
    {
      "cell_type": "code",
      "metadata": {
        "id": "CvQUnDLRHeKY",
        "colab": {
          "base_uri": "https://localhost:8080/"
        },
        "outputId": "7d84fd1b-fd2c-4791-ae27-1383afdeab48"
      },
      "source": [
        "#code here\n",
        "#print(colors_set - fruit_set)\n",
        "print(colors_set.difference(fruit_set))\n",
        "\n"
      ],
      "id": "CvQUnDLRHeKY",
      "execution_count": 10,
      "outputs": [
        {
          "output_type": "stream",
          "text": [
            "{'blue', 'red'}\n"
          ],
          "name": "stdout"
        }
      ]
    },
    {
      "cell_type": "markdown",
      "metadata": {
        "id": "9CKhId_-HeKZ"
      },
      "source": [
        "## 3. TUPLES\n",
        "\n",
        "Reference:-https://www.youtube.com/watch?v=NI26dqhs2Rk"
      ],
      "id": "9CKhId_-HeKZ"
    },
    {
      "cell_type": "markdown",
      "metadata": {
        "id": "ImM0OjNuHeKa"
      },
      "source": [
        "#### 3.1 . Create temp = [17, ’Virat’, 50.0]"
      ],
      "id": "ImM0OjNuHeKa"
    },
    {
      "cell_type": "markdown",
      "metadata": {
        "id": "mf440HyoHeKa"
      },
      "source": [
        "<p style='text-align: right;'> 7 points</p>\n"
      ],
      "id": "mf440HyoHeKa"
    },
    {
      "cell_type": "code",
      "metadata": {
        "id": "sN3nC1qwHeKb"
      },
      "source": [
        "#code here\n",
        "\n",
        "temp = [17,'Virat',50.0]\n"
      ],
      "id": "sN3nC1qwHeKb",
      "execution_count": 11,
      "outputs": []
    },
    {
      "cell_type": "markdown",
      "metadata": {
        "id": "xIXPlxdMHeKc"
      },
      "source": [
        "Iterate through temp and print all the items in temp"
      ],
      "id": "xIXPlxdMHeKc"
    },
    {
      "cell_type": "code",
      "metadata": {
        "colab": {
          "base_uri": "https://localhost:8080/"
        },
        "id": "okwaCdueHeKc",
        "outputId": "d4382116-d124-4fff-a150-4b8687d6dc63"
      },
      "source": [
        "#code here\n",
        "\n",
        "for i in temp:\n",
        "  print(temp)\n"
      ],
      "id": "okwaCdueHeKc",
      "execution_count": 12,
      "outputs": [
        {
          "output_type": "stream",
          "text": [
            "[17, 'Virat', 50.0]\n",
            "[17, 'Virat', 50.0]\n",
            "[17, 'Virat', 50.0]\n"
          ],
          "name": "stdout"
        }
      ]
    },
    {
      "cell_type": "markdown",
      "metadata": {
        "id": "hTpi-Jx3HeKe"
      },
      "source": [
        "replace first element with 11 in temp"
      ],
      "id": "hTpi-Jx3HeKe"
    },
    {
      "cell_type": "code",
      "metadata": {
        "colab": {
          "base_uri": "https://localhost:8080/"
        },
        "id": "mx0hrDrBHeKf",
        "outputId": "f7313a6a-4364-4d49-87f0-60226c727ec7"
      },
      "source": [
        "#code here\n",
        "'''\n",
        "temp = [17,'Virat',50.0]\n",
        "y =list(temp)\n",
        "temp[0] = 11\n",
        "temp = tuple(y)\n",
        "print(temp)\n",
        "'''\n",
        "temp =[17,'Virat',50.0]\n",
        "temp[0]=11\n",
        "print(temp)"
      ],
      "id": "mx0hrDrBHeKf",
      "execution_count": 22,
      "outputs": [
        {
          "output_type": "stream",
          "text": [
            "[11, 'Virat', 50.0]\n"
          ],
          "name": "stdout"
        }
      ]
    },
    {
      "cell_type": "markdown",
      "metadata": {
        "id": "Sb_nbYPyHeKf"
      },
      "source": [
        "Set temp1 = tuple(temp)"
      ],
      "id": "Sb_nbYPyHeKf"
    },
    {
      "cell_type": "code",
      "metadata": {
        "id": "sFLxzSwXHeKg"
      },
      "source": [
        "#code here\n",
        "temp1 = tuple(temp)\n"
      ],
      "id": "sFLxzSwXHeKg",
      "execution_count": 23,
      "outputs": []
    },
    {
      "cell_type": "markdown",
      "metadata": {
        "id": "bgwsPn1eHeKg"
      },
      "source": [
        "Iterate through temp1 and print all the items in temp1. "
      ],
      "id": "bgwsPn1eHeKg"
    },
    {
      "cell_type": "code",
      "metadata": {
        "id": "oD8vcUG3HeKg",
        "colab": {
          "base_uri": "https://localhost:8080/"
        },
        "outputId": "1af9c1f1-0726-4517-c110-0841b7600d2c"
      },
      "source": [
        "#code here\n",
        "for i in temp1:\n",
        "\n",
        "  print(i)\n"
      ],
      "id": "oD8vcUG3HeKg",
      "execution_count": 24,
      "outputs": [
        {
          "output_type": "stream",
          "text": [
            "11\n",
            "Virat\n",
            "50.0\n"
          ],
          "name": "stdout"
        }
      ]
    },
    {
      "cell_type": "markdown",
      "metadata": {
        "id": "lZ7rwyXbHeKh"
      },
      "source": [
        "replace first element with 17 in temp1"
      ],
      "id": "lZ7rwyXbHeKh"
    },
    {
      "cell_type": "code",
      "metadata": {
        "id": "pULY59J8HeKh",
        "colab": {
          "base_uri": "https://localhost:8080/"
        },
        "outputId": "15df3701-fd4e-43ce-fc07-9d6d03b3cb40"
      },
      "source": [
        "#code here\n",
        "temp1 = [11, 'Virat', 50.0]\n",
        "y = list(temp1)\n",
        "temp1[0]= 17\n",
        "temp1= tuple(y)\n",
        "print(temp1)"
      ],
      "id": "pULY59J8HeKh",
      "execution_count": 26,
      "outputs": [
        {
          "output_type": "stream",
          "text": [
            "(11, 'Virat', 50.0)\n"
          ],
          "name": "stdout"
        }
      ]
    },
    {
      "cell_type": "markdown",
      "metadata": {
        "id": "bQAGIxcAHeKi"
      },
      "source": [
        "<b>Oops!! You got an error. Hey Don't worry! Its because Once a tuple is created, you cannot change its values unlike list.</b>"
      ],
      "id": "bQAGIxcAHeKi"
    },
    {
      "cell_type": "markdown",
      "metadata": {
        "id": "zzVPm63LHeKi"
      },
      "source": [
        "#### 3.2 . Create city = (\"Bangalore\", 28.9949521, 72)"
      ],
      "id": "zzVPm63LHeKi"
    },
    {
      "cell_type": "markdown",
      "metadata": {
        "id": "o_ETFvnSHeKj"
      },
      "source": [
        "<p style='text-align: right;'> 6 points</p>\n"
      ],
      "id": "o_ETFvnSHeKj"
    },
    {
      "cell_type": "code",
      "metadata": {
        "id": "8zm-nVW3HeKj"
      },
      "source": [
        "#code here\n",
        "city =(\"bangalore\",28.9949521 , 72)\n"
      ],
      "id": "8zm-nVW3HeKj",
      "execution_count": 41,
      "outputs": []
    },
    {
      "cell_type": "markdown",
      "metadata": {
        "id": "lL5SZsLmHeKk"
      },
      "source": [
        "Print first element of city"
      ],
      "id": "lL5SZsLmHeKk"
    },
    {
      "cell_type": "code",
      "metadata": {
        "id": "kAy-5qLxHeKk",
        "colab": {
          "base_uri": "https://localhost:8080/"
        },
        "outputId": "e053efdb-8df7-471c-a6b4-32f7c5532ce6"
      },
      "source": [
        "#code here\n",
        "print(city[0])\n",
        "\n"
      ],
      "id": "kAy-5qLxHeKk",
      "execution_count": 44,
      "outputs": [
        {
          "output_type": "stream",
          "text": [
            "bangalore\n"
          ],
          "name": "stdout"
        }
      ]
    },
    {
      "cell_type": "markdown",
      "metadata": {
        "id": "dc4st9bzHeKl"
      },
      "source": [
        "Create city2 = (‘Chennai’, 30.01, 74)"
      ],
      "id": "dc4st9bzHeKl"
    },
    {
      "cell_type": "code",
      "metadata": {
        "id": "FMbVqzr2HeKm"
      },
      "source": [
        "#code here\n",
        "city2 =('chennai',30.01, 74)\n"
      ],
      "id": "FMbVqzr2HeKm",
      "execution_count": 29,
      "outputs": []
    },
    {
      "cell_type": "markdown",
      "metadata": {
        "id": "SJ4QFe-2HeKm"
      },
      "source": [
        "Create cities which consist of city and city2"
      ],
      "id": "SJ4QFe-2HeKm"
    },
    {
      "cell_type": "code",
      "metadata": {
        "id": "9hRaFO6wHeKn",
        "colab": {
          "base_uri": "https://localhost:8080/"
        },
        "outputId": "e525563c-d316-4495-fe62-8f3593b35551"
      },
      "source": [
        "#code here\n",
        "cities = city + city2\n",
        "print(cities)\n"
      ],
      "id": "9hRaFO6wHeKn",
      "execution_count": 38,
      "outputs": [
        {
          "output_type": "stream",
          "text": [
            "('bangalore', 28.9949521, 72, 'chennai', 30.01, 74)\n"
          ],
          "name": "stdout"
        }
      ]
    },
    {
      "cell_type": "markdown",
      "metadata": {
        "id": "UcK-jOkMHeKn"
      },
      "source": [
        "Print cities"
      ],
      "id": "UcK-jOkMHeKn"
    },
    {
      "cell_type": "code",
      "metadata": {
        "id": "klMslgtQHeKo",
        "colab": {
          "base_uri": "https://localhost:8080/"
        },
        "outputId": "10753fd8-21cd-4a55-8611-883967176f2c"
      },
      "source": [
        "#code here\n",
        "\n",
        "print(cities)"
      ],
      "id": "klMslgtQHeKo",
      "execution_count": 32,
      "outputs": [
        {
          "output_type": "stream",
          "text": [
            "('bangalore', 28.9949521, 72, 'chennai', 30.01, 74)\n"
          ],
          "name": "stdout"
        }
      ]
    },
    {
      "cell_type": "markdown",
      "metadata": {
        "id": "hBkOKwTbHeKp"
      },
      "source": [
        "Print type of first element in cities"
      ],
      "id": "hBkOKwTbHeKp"
    },
    {
      "cell_type": "code",
      "metadata": {
        "id": "XXx2E0dTHeKp",
        "colab": {
          "base_uri": "https://localhost:8080/"
        },
        "outputId": "e451575b-12b8-4681-a23d-76fd2fdfb20c"
      },
      "source": [
        "#code here\n",
        "print(type(cities[0]))\n"
      ],
      "id": "XXx2E0dTHeKp",
      "execution_count": 35,
      "outputs": [
        {
          "output_type": "stream",
          "text": [
            "<class 'str'>\n"
          ],
          "name": "stdout"
        }
      ]
    },
    {
      "cell_type": "markdown",
      "metadata": {
        "id": "UkU24yrFHeKq"
      },
      "source": [
        "print the type of cities\n"
      ],
      "id": "UkU24yrFHeKq"
    },
    {
      "cell_type": "code",
      "metadata": {
        "id": "lUzInjkbHeKr",
        "colab": {
          "base_uri": "https://localhost:8080/"
        },
        "outputId": "18db5bd1-5052-4e98-96ef-d3551f67ed12"
      },
      "source": [
        "#code here\n",
        "\n",
        "print(type(cities))"
      ],
      "id": "lUzInjkbHeKr",
      "execution_count": 34,
      "outputs": [
        {
          "output_type": "stream",
          "text": [
            "<class 'tuple'>\n"
          ],
          "name": "stdout"
        }
      ]
    },
    {
      "cell_type": "markdown",
      "metadata": {
        "id": "2KwtDT-pHeKs"
      },
      "source": [
        "Hey that implies you made a nested tuples!!"
      ],
      "id": "2KwtDT-pHeKs"
    },
    {
      "cell_type": "markdown",
      "metadata": {
        "id": "mH6B4KHNHeKs"
      },
      "source": [
        "## 4. DICT\n",
        "\n",
        "Reference:-https://www.youtube.com/watch?v=XCcpzWs-CI4"
      ],
      "id": "mH6B4KHNHeKs"
    },
    {
      "cell_type": "markdown",
      "metadata": {
        "id": "1jqRyrY7HeKs"
      },
      "source": [
        "<p style='text-align: right;'> 11 points</p>\n"
      ],
      "id": "1jqRyrY7HeKs"
    },
    {
      "cell_type": "markdown",
      "metadata": {
        "id": "c2YhciHaHeKt"
      },
      "source": [
        "#### 4.1 Create a dictionary d = {\"actor\":\"amir\",\"animal\":\"cat\",\"earth\":2,\"list\":[23,32,12]}"
      ],
      "id": "c2YhciHaHeKt"
    },
    {
      "cell_type": "code",
      "metadata": {
        "id": "zZofRnwgHeKt"
      },
      "source": [
        "#code here\n",
        "d = {'actor':'amir','animal':'cat','earth':2,'list':[23,32,12]}\n"
      ],
      "id": "zZofRnwgHeKt",
      "execution_count": 45,
      "outputs": []
    },
    {
      "cell_type": "markdown",
      "metadata": {
        "id": "yLP66JoIHeKu"
      },
      "source": [
        "Print the value of d[0]"
      ],
      "id": "yLP66JoIHeKu"
    },
    {
      "cell_type": "code",
      "metadata": {
        "id": "ij0ej_ogHeKu",
        "colab": {
          "base_uri": "https://localhost:8080/",
          "height": 197
        },
        "outputId": "f31491a5-9bd6-4bf9-a7af-b57983ab5023"
      },
      "source": [
        "#code here\n",
        "\n",
        "print(d[0])"
      ],
      "id": "ij0ej_ogHeKu",
      "execution_count": 46,
      "outputs": [
        {
          "output_type": "error",
          "ename": "KeyError",
          "evalue": "ignored",
          "traceback": [
            "\u001b[0;31m---------------------------------------------------------------------------\u001b[0m",
            "\u001b[0;31mKeyError\u001b[0m                                  Traceback (most recent call last)",
            "\u001b[0;32m<ipython-input-46-fc7e5a8187df>\u001b[0m in \u001b[0;36m<module>\u001b[0;34m()\u001b[0m\n\u001b[1;32m      1\u001b[0m \u001b[0;31m#code here\u001b[0m\u001b[0;34m\u001b[0m\u001b[0;34m\u001b[0m\u001b[0;34m\u001b[0m\u001b[0m\n\u001b[1;32m      2\u001b[0m \u001b[0;34m\u001b[0m\u001b[0m\n\u001b[0;32m----> 3\u001b[0;31m \u001b[0mprint\u001b[0m\u001b[0;34m(\u001b[0m\u001b[0md\u001b[0m\u001b[0;34m[\u001b[0m\u001b[0;36m0\u001b[0m\u001b[0;34m]\u001b[0m\u001b[0;34m)\u001b[0m\u001b[0;34m\u001b[0m\u001b[0;34m\u001b[0m\u001b[0m\n\u001b[0m",
            "\u001b[0;31mKeyError\u001b[0m: 0"
          ]
        }
      ]
    },
    {
      "cell_type": "markdown",
      "metadata": {
        "id": "TdDPKX9uHeKu"
      },
      "source": [
        "<b>Oops!! again an error. again a fun fact. Dictionary return the value for key if key is in the dictionary, else throws KeyError\n",
        "and we don't have key 0 here :( </b>"
      ],
      "id": "TdDPKX9uHeKu"
    },
    {
      "cell_type": "markdown",
      "metadata": {
        "id": "5uKyJ_BrHeKy"
      },
      "source": [
        "Store the value of d[‘actor’] to a new variable actor."
      ],
      "id": "5uKyJ_BrHeKy"
    },
    {
      "cell_type": "code",
      "metadata": {
        "id": "ioGpbm1lHeKy"
      },
      "source": [
        "#code here\n",
        "actor = d['actor']\n",
        "\n"
      ],
      "id": "ioGpbm1lHeKy",
      "execution_count": 47,
      "outputs": []
    },
    {
      "cell_type": "markdown",
      "metadata": {
        "id": "s2eyfQx3HeKy"
      },
      "source": [
        "Print the type of actor"
      ],
      "id": "s2eyfQx3HeKy"
    },
    {
      "cell_type": "code",
      "metadata": {
        "id": "WEYx2_I7HeKz",
        "colab": {
          "base_uri": "https://localhost:8080/"
        },
        "outputId": "51d097ad-2cb4-46d5-f5d3-31430ee1316a"
      },
      "source": [
        "#code here\n",
        "print(type(actor))\n"
      ],
      "id": "WEYx2_I7HeKz",
      "execution_count": 48,
      "outputs": [
        {
          "output_type": "stream",
          "text": [
            "<class 'str'>\n"
          ],
          "name": "stdout"
        }
      ]
    },
    {
      "cell_type": "markdown",
      "metadata": {
        "id": "lvMektyrHeKz"
      },
      "source": [
        "Store the value of d[‘list’] in new variable l. "
      ],
      "id": "lvMektyrHeKz"
    },
    {
      "cell_type": "code",
      "metadata": {
        "id": "kOg7JhTnHeK0"
      },
      "source": [
        "#code here\n",
        "l = d['list']\n"
      ],
      "id": "kOg7JhTnHeK0",
      "execution_count": 49,
      "outputs": []
    },
    {
      "cell_type": "markdown",
      "metadata": {
        "id": "e9Ez8lPmHeK0"
      },
      "source": [
        "Print the type of l. "
      ],
      "id": "e9Ez8lPmHeK0"
    },
    {
      "cell_type": "code",
      "metadata": {
        "id": "aiOLqQxHHeK1",
        "colab": {
          "base_uri": "https://localhost:8080/"
        },
        "outputId": "3bee2d00-6a8f-4d83-e8e9-439014d37f02"
      },
      "source": [
        "#code here\n",
        "print(type(l))\n"
      ],
      "id": "aiOLqQxHHeK1",
      "execution_count": 50,
      "outputs": [
        {
          "output_type": "stream",
          "text": [
            "<class 'list'>\n"
          ],
          "name": "stdout"
        }
      ]
    },
    {
      "cell_type": "markdown",
      "metadata": {
        "id": "AxEX5FEnHeK1"
      },
      "source": [
        "Create d1 = { ‘singer’ : ‘Kr$na’ , ‘album’: ‘Still here’, ‘genre’ : ‘hip-hop’}"
      ],
      "id": "AxEX5FEnHeK1"
    },
    {
      "cell_type": "code",
      "metadata": {
        "id": "uNbRhXDFHeK2"
      },
      "source": [
        "#code here\n",
        "d1 ={'singer':'Kr$na','album':'still here','genre':'hip-hop'}\n",
        "\n",
        "d = {'actor':'amir','animal':'cat','earth':2,'list':[23,32,12]}"
      ],
      "id": "uNbRhXDFHeK2",
      "execution_count": 56,
      "outputs": []
    },
    {
      "cell_type": "markdown",
      "metadata": {
        "id": "veiZnm5vHeK2"
      },
      "source": [
        "Merge d1 into d."
      ],
      "id": "veiZnm5vHeK2"
    },
    {
      "cell_type": "code",
      "metadata": {
        "id": "7neyrVVeHeK3",
        "colab": {
          "base_uri": "https://localhost:8080/"
        },
        "outputId": "0b8cf426-ea00-4c81-d547-f4f9d2aa8310"
      },
      "source": [
        "#code here\n",
        "def Merge(d, d1):\n",
        "  z= d.copy()\n",
        "  z.update(d1)\n",
        "  return z\n",
        "  \n",
        "z = Merge(d,d1)\n",
        "print(z)"
      ],
      "id": "7neyrVVeHeK3",
      "execution_count": 61,
      "outputs": [
        {
          "output_type": "stream",
          "text": [
            "{'actor': 'amir', 'animal': 'cat', 'earth': 2, 'list': [23, 32, 12], 'singer': 'Kr$na', 'album': 'still here', 'genre': 'hip-hop'}\n"
          ],
          "name": "stdout"
        }
      ]
    },
    {
      "cell_type": "markdown",
      "metadata": {
        "id": "pZW25NdPHeK4"
      },
      "source": [
        "print d"
      ],
      "id": "pZW25NdPHeK4"
    },
    {
      "cell_type": "code",
      "metadata": {
        "id": "R-ImC1Z7HeK5",
        "colab": {
          "base_uri": "https://localhost:8080/"
        },
        "outputId": "d138e980-a264-40a8-d9dd-ab989de32177"
      },
      "source": [
        "#code here\n",
        "print(z)\n"
      ],
      "id": "R-ImC1Z7HeK5",
      "execution_count": 63,
      "outputs": [
        {
          "output_type": "stream",
          "text": [
            "{'actor': 'amir', 'animal': 'cat', 'earth': 2, 'list': [23, 32, 12], 'singer': 'Kr$na', 'album': 'still here', 'genre': 'hip-hop'}\n"
          ],
          "name": "stdout"
        }
      ]
    },
    {
      "cell_type": "markdown",
      "metadata": {
        "id": "7lAi8rekHeK6"
      },
      "source": [
        "Print all the keys in d"
      ],
      "id": "7lAi8rekHeK6"
    },
    {
      "cell_type": "code",
      "metadata": {
        "id": "gjJqBmhnHeK6",
        "colab": {
          "base_uri": "https://localhost:8080/"
        },
        "outputId": "6d1519d6-d860-40c3-ba57-bd3ce2686263"
      },
      "source": [
        "#code here\n",
        "d = {'actor': 'amir', 'animal': 'cat', 'earth': 2, 'list': [23, 32, 12], 'singer': 'Kr$na', 'album': 'still here', 'genre': 'hip-hop'}\n",
        "print(d.keys())\n"
      ],
      "id": "gjJqBmhnHeK6",
      "execution_count": 64,
      "outputs": [
        {
          "output_type": "stream",
          "text": [
            "dict_keys(['actor', 'animal', 'earth', 'list', 'singer', 'album', 'genre'])\n"
          ],
          "name": "stdout"
        }
      ]
    },
    {
      "cell_type": "markdown",
      "metadata": {
        "id": "ZGK3y_B6HeK7"
      },
      "source": [
        "Print all the values in d"
      ],
      "id": "ZGK3y_B6HeK7"
    },
    {
      "cell_type": "code",
      "metadata": {
        "id": "nvQLVSLNHeK7",
        "colab": {
          "base_uri": "https://localhost:8080/"
        },
        "outputId": "a3a2cebe-0d45-48bf-edfa-87c502ca7ff1"
      },
      "source": [
        "#code here\n",
        "print(d.values())\n"
      ],
      "id": "nvQLVSLNHeK7",
      "execution_count": 65,
      "outputs": [
        {
          "output_type": "stream",
          "text": [
            "dict_values(['amir', 'cat', 2, [23, 32, 12], 'Kr$na', 'still here', 'hip-hop'])\n"
          ],
          "name": "stdout"
        }
      ]
    },
    {
      "cell_type": "markdown",
      "metadata": {
        "id": "B2W7X1cZHeK8"
      },
      "source": [
        "Iterate over d, and print each key, value pair as given in output"
      ],
      "id": "B2W7X1cZHeK8"
    },
    {
      "cell_type": "code",
      "metadata": {
        "id": "JZozyJHLHeK8",
        "colab": {
          "base_uri": "https://localhost:8080/"
        },
        "outputId": "7fe7d733-70e3-4c11-b78a-364636a6af80"
      },
      "source": [
        "#code here\n",
        "for key in d:\n",
        "  print(key,'--->',d[key])\n",
        "\n"
      ],
      "id": "JZozyJHLHeK8",
      "execution_count": 70,
      "outputs": [
        {
          "output_type": "stream",
          "text": [
            "actor ---> amir\n",
            "animal ---> cat\n",
            "earth ---> 2\n",
            "list ---> [23, 32, 12]\n",
            "singer ---> Kr$na\n",
            "album ---> still here\n",
            "genre ---> hip-hop\n"
          ],
          "name": "stdout"
        }
      ]
    },
    {
      "cell_type": "markdown",
      "metadata": {
        "id": "rkCc2vDEHeK8"
      },
      "source": [
        "count the number of occurences of charachters in string named \"sent\" using dictionary and print the same.\n"
      ],
      "id": "rkCc2vDEHeK8"
    },
    {
      "cell_type": "code",
      "metadata": {
        "id": "3qvORiv6HeK8",
        "colab": {
          "base_uri": "https://localhost:8080/"
        },
        "outputId": "6a9c1ab7-20d8-45ca-e7c8-5b7b1751a292"
      },
      "source": [
        "#code here\n",
        "sent = 'Coronavirus Caused Lockdowns Around The World'\n",
        "i = 0\n",
        "temp_var =\" \"\n",
        "while i <len(sent):\n",
        "  if sent[i] not in temp_var:\n",
        "    temp_var +=sent[i]\n",
        "    print(f\"{sent[i]} : {sent.count(sent[i]) }\")\n",
        "    i+=1\n",
        "\n",
        "\n"
      ],
      "id": "3qvORiv6HeK8",
      "execution_count": null,
      "outputs": [
        {
          "output_type": "stream",
          "text": [
            "C : 2\n",
            "o : 6\n",
            "r : 4\n"
          ],
          "name": "stdout"
        }
      ]
    },
    {
      "cell_type": "markdown",
      "metadata": {
        "id": "pFZ6TgfxHeK9"
      },
      "source": [
        "# --------------------------------------------------------------------"
      ],
      "id": "pFZ6TgfxHeK9"
    },
    {
      "cell_type": "markdown",
      "metadata": {
        "id": "gUuwYhE1HeK9"
      },
      "source": [
        "# Hurray!! Second milestone completed. The next challenge is waiting for you :)\n",
        "\n",
        "# --------------------------------------------------------------------"
      ],
      "id": "gUuwYhE1HeK9"
    },
    {
      "cell_type": "markdown",
      "metadata": {
        "id": "CG6h_jBBkqhy"
      },
      "source": [
        "# FeedBack\n",
        "We hope you’ve enjoyed this course so far. We’re committed to help you use \"AI for All\" course to its full potential, so that you have a great learning experience. And that’s why we need your help in form of a feedback here.\n",
        "\n",
        "**Please fill this feedback form**\n",
        "https://docs.google.com/forms/d/e/1FAIpQLSfjBmH0yJSSA34IhSVx4h2eDMgOAeG4Dk-yHid__NMTk3Hq5g/viewform"
      ],
      "id": "CG6h_jBBkqhy"
    },
    {
      "cell_type": "code",
      "metadata": {
        "id": "fe_nh_kVHeK_"
      },
      "source": [
        ""
      ],
      "id": "fe_nh_kVHeK_",
      "execution_count": null,
      "outputs": []
    }
  ]
}