{
  "nbformat": 4,
  "nbformat_minor": 0,
  "metadata": {
    "colab": {
      "name": "Python Basics.ipynb",
      "provenance": [],
      "collapsed_sections": []
    },
    "kernelspec": {
      "display_name": "Python 3",
      "language": "python",
      "name": "python3"
    },
    "language_info": {
      "codemirror_mode": {
        "name": "ipython",
        "version": 3
      },
      "file_extension": ".py",
      "mimetype": "text/x-python",
      "name": "python",
      "nbconvert_exporter": "python",
      "pygments_lexer": "ipython3",
      "version": "3.7.4"
    }
  },
  "cells": [
    {
      "cell_type": "markdown",
      "metadata": {
        "id": "KjKXGcSxeNXM"
      },
      "source": [
        "# <center> Python basics</center>"
      ]
    },
    {
      "cell_type": "markdown",
      "metadata": {
        "id": "9p1Ufa7ceNXQ"
      },
      "source": [
        "## Variable declaration"
      ]
    },
    {
      "cell_type": "markdown",
      "metadata": {
        "id": "4sR5efaCeNXQ"
      },
      "source": [
        "Covers the topic of variable declaration and type of variables\n",
        "\n",
        "reference:- https://youtu.be/RVYY7zMiPbg"
      ]
    },
    {
      "cell_type": "markdown",
      "metadata": {
        "id": "KE7co6gleNXQ"
      },
      "source": [
        "<p style='text-align: right;'> 1+1+1+1+1 = 5 points</p>\n"
      ]
    },
    {
      "cell_type": "code",
      "metadata": {
        "id": "vO08gwqneNXR"
      },
      "source": [
        "# declare two variables, a = 5, b = 'city'\n",
        "a = 5# your code here\n",
        "b = 'city'# your code here"
      ],
      "execution_count": null,
      "outputs": []
    },
    {
      "cell_type": "code",
      "metadata": {
        "id": "scAjfXbYeNXR",
        "colab": {
          "base_uri": "https://localhost:8080/"
        },
        "outputId": "ef632b39-2d34-4d95-9b14-997bcb395e1d"
      },
      "source": [
        "# print type of a\n",
        "print(a)"
      ],
      "execution_count": null,
      "outputs": [
        {
          "output_type": "stream",
          "text": [
            "5\n"
          ],
          "name": "stdout"
        }
      ]
    },
    {
      "cell_type": "code",
      "metadata": {
        "id": "QjRcLLnieNXR",
        "colab": {
          "base_uri": "https://localhost:8080/"
        },
        "outputId": "da54acb0-7705-4a66-c594-0c880a85b9fd"
      },
      "source": [
        "# print type of b\n",
        "\n",
        "print(b)"
      ],
      "execution_count": null,
      "outputs": [
        {
          "output_type": "stream",
          "text": [
            "city\n"
          ],
          "name": "stdout"
        }
      ]
    },
    {
      "cell_type": "code",
      "metadata": {
        "id": "Qmbw_6M-eNXS",
        "colab": {
          "base_uri": "https://localhost:8080/"
        },
        "outputId": "1c758cc9-30ab-4d5f-a812-bc831d9e022a"
      },
      "source": [
        "# swap the values of a and b\n",
        "a = 5\n",
        "b = 'city'\n",
        "temp = a\n",
        "a = b\n",
        "b = temp\n",
        "print(a)\n",
        "print(b)"
      ],
      "execution_count": null,
      "outputs": [
        {
          "output_type": "stream",
          "text": [
            "city\n",
            "5\n"
          ],
          "name": "stdout"
        }
      ]
    },
    {
      "cell_type": "code",
      "metadata": {
        "id": "YopoVVCAeNXS",
        "colab": {
          "base_uri": "https://localhost:8080/"
        },
        "outputId": "33afbf60-0827-417b-8548-e98ad4fd1e2d"
      },
      "source": [
        "# run this to confirm \n",
        "print('a = ' + str(a) + ' , b = ' + str(b))"
      ],
      "execution_count": null,
      "outputs": [
        {
          "output_type": "stream",
          "text": [
            "a = city , b = 5\n"
          ],
          "name": "stdout"
        }
      ]
    },
    {
      "cell_type": "markdown",
      "metadata": {
        "id": "a_v4KypaeNXS"
      },
      "source": [
        "## Arithmetic Operations"
      ]
    },
    {
      "cell_type": "markdown",
      "metadata": {
        "id": "oimyvbWbeNXS"
      },
      "source": [
        "Simple mathematical operations and using math module to apply mathematical functions"
      ]
    },
    {
      "cell_type": "markdown",
      "metadata": {
        "id": "MXIsatRMeNXS"
      },
      "source": [
        "- Mathematical operations\n",
        "\n",
        "reference:- https://youtu.be/0-hzxfkpHy8"
      ]
    },
    {
      "cell_type": "markdown",
      "metadata": {
        "id": "KrbCKjEfeNXS"
      },
      "source": [
        "<p style='text-align: right;'> 1 + 7 = 8 points </p>\n"
      ]
    },
    {
      "cell_type": "code",
      "metadata": {
        "colab": {
          "base_uri": "https://localhost:8080/"
        },
        "id": "2v8qg_9deNXT",
        "outputId": "300cc2d8-4072-4aab-ba5a-48fa06fa76dd"
      },
      "source": [
        "# declare two variables, a = 24, b = 3\n",
        "\n",
        "a = 24\n",
        "b = 3\n",
        "print('a = {}, b = {}'.format(a,b))"
      ],
      "execution_count": null,
      "outputs": [
        {
          "output_type": "stream",
          "text": [
            "a = 24, b = 3\n"
          ],
          "name": "stdout"
        }
      ]
    },
    {
      "cell_type": "code",
      "metadata": {
        "id": "5ZDI9lYXeNXT",
        "colab": {
          "base_uri": "https://localhost:8080/"
        },
        "outputId": "1d32e668-cd08-4fda-9a98-8c03e18c8b01"
      },
      "source": [
        "# calculate and print all the possible numeriacl operations on a and b (There are total 7 operations)\n",
        "\n",
        "a = 5\n",
        "b = 10\n",
        "\n",
        "print(f\"a + b = \" ,a+b)\n",
        "print(f\"a - b =\",a-b)\n",
        "print(f\"a * b =\",a*b)\n",
        "print(f\"a / b =\",a/b)\n",
        "print(f\"a % b =\",a%b)\n",
        "print(f\"a // b = \",a//b)\n",
        "print(f\"a ^ b =\", a^b)\n"
      ],
      "execution_count": 25,
      "outputs": [
        {
          "output_type": "stream",
          "text": [
            "a + b =  15\n",
            "a - b = -5\n",
            "a * b = 50\n",
            "a / b = 0.5\n",
            "a % b = 5\n",
            "a // b =  0\n",
            "a ^ b = 15\n"
          ],
          "name": "stdout"
        }
      ]
    },
    {
      "cell_type": "markdown",
      "metadata": {
        "id": "72RJqXFDeNXT"
      },
      "source": [
        "## Math Functions"
      ]
    },
    {
      "cell_type": "markdown",
      "metadata": {
        "id": "9inWZMVBeNXT"
      },
      "source": [
        "Math module contains various mathematical functions. \n",
        "\n",
        "Reference:- https://youtu.be/gktjNyV0xks"
      ]
    },
    {
      "cell_type": "markdown",
      "metadata": {
        "id": "760Q04pmeNXT"
      },
      "source": [
        "<p style='text-align: right;'> 1 + 4 = 5 points </p>\n"
      ]
    },
    {
      "cell_type": "code",
      "metadata": {
        "id": "96VQV_7xeNXT",
        "colab": {
          "base_uri": "https://localhost:8080/"
        },
        "outputId": "104429e6-ab05-4c8e-e99c-727ac9ab85af"
      },
      "source": [
        "import math\n",
        "# declare a variable a = 2\n",
        "a = 2 #your code here\n",
        "print('a = ',a)"
      ],
      "execution_count": 10,
      "outputs": [
        {
          "output_type": "stream",
          "text": [
            "a =  2\n"
          ],
          "name": "stdout"
        }
      ]
    },
    {
      "cell_type": "code",
      "metadata": {
        "id": "MP7p4aqXeNXT"
      },
      "source": [
        "# declare a variable x = 2 and y=5.32167\n",
        "\n",
        "x= 2 \n",
        "#code here\n",
        "y= 5.32167\n",
        "#code here"
      ],
      "execution_count": 11,
      "outputs": []
    },
    {
      "cell_type": "code",
      "metadata": {
        "id": "e-83j1adeNXT",
        "colab": {
          "base_uri": "https://localhost:8080/"
        },
        "outputId": "6d622e44-b821-41fe-befd-5f3f9d08a454"
      },
      "source": [
        "# Print the maximum value between x and y\n",
        "print(max(x,y))\n"
      ],
      "execution_count": 12,
      "outputs": [
        {
          "output_type": "stream",
          "text": [
            "5.32167\n"
          ],
          "name": "stdout"
        }
      ]
    },
    {
      "cell_type": "code",
      "metadata": {
        "id": "L7k75CdJeNXU",
        "colab": {
          "base_uri": "https://localhost:8080/"
        },
        "outputId": "420850a3-d7fc-405b-b6df-5e9ed0f94a47"
      },
      "source": [
        "# Round value of y upto 2 decimal places\n",
        "print(round(y,2))\n"
      ],
      "execution_count": 13,
      "outputs": [
        {
          "output_type": "stream",
          "text": [
            "5.32\n"
          ],
          "name": "stdout"
        }
      ]
    },
    {
      "cell_type": "code",
      "metadata": {
        "id": "mqnxWyVPeNXU",
        "colab": {
          "base_uri": "https://localhost:8080/"
        },
        "outputId": "ef370a1e-be57-43ab-c689-93acdca0895a"
      },
      "source": [
        "# Print square and cube of x and store in a and b variable\n",
        "a = x*x\n",
        "b = x**3\n",
        "print(a)\n",
        "print(b)\n"
      ],
      "execution_count": 28,
      "outputs": [
        {
          "output_type": "stream",
          "text": [
            "4\n",
            "8\n"
          ],
          "name": "stdout"
        }
      ]
    },
    {
      "cell_type": "code",
      "metadata": {
        "id": "wIckQ1nueNXU",
        "colab": {
          "base_uri": "https://localhost:8080/"
        },
        "outputId": "7618c60c-4f3a-4831-cce4-62c14bdc93c6"
      },
      "source": [
        "#print log of x and store it in variable c\n",
        "c = x\n",
        "print(math.log(c))\n"
      ],
      "execution_count": 29,
      "outputs": [
        {
          "output_type": "stream",
          "text": [
            "0.6931471805599453\n"
          ],
          "name": "stdout"
        }
      ]
    },
    {
      "cell_type": "code",
      "metadata": {
        "id": "81OO8rLZeNXU",
        "colab": {
          "base_uri": "https://localhost:8080/"
        },
        "outputId": "d42da341-e10e-4f2d-8d9d-391e0becac6c"
      },
      "source": [
        "#print minimum value between x,y,a, b and c\n",
        "x = 2\n",
        "y = 5.32167\n",
        "a = 4\n",
        "b = 8\n",
        "c = 0.6931471805599453\n",
        "print(min(x,y,a,b,c))\n"
      ],
      "execution_count": 32,
      "outputs": [
        {
          "output_type": "stream",
          "text": [
            "0.6931471805599453\n"
          ],
          "name": "stdout"
        }
      ]
    },
    {
      "cell_type": "code",
      "metadata": {
        "id": "IVoJv4qNeNXU",
        "colab": {
          "base_uri": "https://localhost:8080/"
        },
        "outputId": "96a8a0eb-9cec-4b78-c576-890b0533bd8b"
      },
      "source": [
        "#print the largest integer not greater than c.\n",
        "print(math.ceil(c)-1)\n"
      ],
      "execution_count": 33,
      "outputs": [
        {
          "output_type": "stream",
          "text": [
            "0\n"
          ],
          "name": "stdout"
        }
      ]
    },
    {
      "cell_type": "code",
      "metadata": {
        "id": "P7-6VgAMeNXU",
        "colab": {
          "base_uri": "https://localhost:8080/"
        },
        "outputId": "38564416-121b-42a7-d22e-758148c074b7"
      },
      "source": [
        "#print the smallest integer not less than c.\n",
        "print(math.ceil(c))\n"
      ],
      "execution_count": 34,
      "outputs": [
        {
          "output_type": "stream",
          "text": [
            "1\n"
          ],
          "name": "stdout"
        }
      ]
    },
    {
      "cell_type": "markdown",
      "metadata": {
        "id": "CpK_SvIbeNXV"
      },
      "source": [
        "## Logical opeations\n",
        "\n",
        "Reference:- https://youtu.be/9w992l9TFIs"
      ]
    },
    {
      "cell_type": "markdown",
      "metadata": {
        "id": "GX4Z0AnteNXV"
      },
      "source": [
        "<p style='text-align: right;'> 1 + 1 + 1 + 6 = 9 points </p>\n"
      ]
    },
    {
      "cell_type": "code",
      "metadata": {
        "id": "wYpbM_fveNXV",
        "colab": {
          "base_uri": "https://localhost:8080/"
        },
        "outputId": "179e46a1-b989-4da7-cfaf-20dc90beff7f"
      },
      "source": [
        "# declare two variables, a = True, b = False\n",
        "\n",
        "a =  True#your code here\n",
        "b = False#your code here\n",
        "\n",
        "print(a)\n",
        "print(b)"
      ],
      "execution_count": 35,
      "outputs": [
        {
          "output_type": "stream",
          "text": [
            "True\n",
            "False\n"
          ],
          "name": "stdout"
        }
      ]
    },
    {
      "cell_type": "code",
      "metadata": {
        "id": "vgpEU8_neNXV",
        "colab": {
          "base_uri": "https://localhost:8080/"
        },
        "outputId": "e77d8424-3f8e-400a-fdb3-086420312463"
      },
      "source": [
        "# print type of a and type of b\n",
        "print(type(a))\n",
        "print(type(b))\n"
      ],
      "execution_count": 36,
      "outputs": [
        {
          "output_type": "stream",
          "text": [
            "<class 'bool'>\n",
            "<class 'bool'>\n"
          ],
          "name": "stdout"
        }
      ]
    },
    {
      "cell_type": "code",
      "metadata": {
        "id": "D2rgf--9eNXV",
        "colab": {
          "base_uri": "https://localhost:8080/"
        },
        "outputId": "1b4efa1d-99d2-4fe8-e3e2-231b469355cb"
      },
      "source": [
        "# print int(a) and int(b)\n",
        "print(int(a))\n",
        "print(int(b))\n"
      ],
      "execution_count": 37,
      "outputs": [
        {
          "output_type": "stream",
          "text": [
            "1\n",
            "0\n"
          ],
          "name": "stdout"
        }
      ]
    },
    {
      "cell_type": "code",
      "metadata": {
        "id": "ah900wkaeNXV",
        "colab": {
          "base_uri": "https://localhost:8080/"
        },
        "outputId": "45433e91-7f0f-4b6e-af6f-aa1fecb47fed"
      },
      "source": [
        "# Find and print the values of not a, not b, a and b, a or b, a and not b\n",
        "print(f\"not a =\",not a)\n",
        "print(f\"not b =\",not b)\n",
        "print(f\"a and b =\",a and b)\n",
        "print(f\"a or b =\",a or b)\n",
        "print(f\"a and not b =\",a and not b)\n",
        "\n"
      ],
      "execution_count": 38,
      "outputs": [
        {
          "output_type": "stream",
          "text": [
            "not a = False\n",
            "not b = True\n",
            "a and b = False\n",
            "a or b = True\n",
            "a and not b = True\n"
          ],
          "name": "stdout"
        }
      ]
    },
    {
      "cell_type": "markdown",
      "metadata": {
        "id": "l4JVbYR8eNXV"
      },
      "source": [
        "## List Comprehensions\n",
        "\n",
        "Reference:- https://youtu.be/17gTGqHG5xQ"
      ]
    },
    {
      "cell_type": "markdown",
      "metadata": {
        "id": "0CIutYHieNXV"
      },
      "source": [
        "<p style='text-align: right;'> 10 + 10 + 10= 30 points </p>\n"
      ]
    },
    {
      "cell_type": "code",
      "metadata": {
        "id": "anJ88T28eNXW",
        "colab": {
          "base_uri": "https://localhost:8080/"
        },
        "outputId": "b674109c-5787-4297-eb25-da7a2ca2c48e"
      },
      "source": [
        "# Using list comprehension, create a list containing numbers from 1 to 20.\n",
        "\n",
        "l1 = [x for x in range(1,21)]\n",
        " #your code here\n",
        "\n",
        "print(l1)"
      ],
      "execution_count": 2,
      "outputs": [
        {
          "output_type": "stream",
          "text": [
            "[1, 2, 3, 4, 5, 6, 7, 8, 9, 10, 11, 12, 13, 14, 15, 16, 17, 18, 19, 20]\n"
          ],
          "name": "stdout"
        }
      ]
    },
    {
      "cell_type": "code",
      "metadata": {
        "id": "7lZ1y452eNXW",
        "colab": {
          "base_uri": "https://localhost:8080/"
        },
        "outputId": "eed2bb1d-69c8-439f-ba4a-d2e95929b7de"
      },
      "source": [
        "# Using list comprehension, create a list containing numbers from 1 to 20 that are even\n",
        "\n",
        "l2 =  [x for x in range(1,21) if x%2 == 0]\n",
        "#your code here\n",
        "\n",
        "print(l2)"
      ],
      "execution_count": 3,
      "outputs": [
        {
          "output_type": "stream",
          "text": [
            "[2, 4, 6, 8, 10, 12, 14, 16, 18, 20]\n"
          ],
          "name": "stdout"
        }
      ]
    },
    {
      "cell_type": "markdown",
      "metadata": {
        "id": "bD4TcJvreNXW"
      },
      "source": [
        "Create a list of all the fruits you like. Using list comprehension, create another list which contains the length of fruits corresponding fruits\n",
        "- Eg. fruits = [‘apple’,’kiwi’,’orange’], then output would be - [5,4,6]\n"
      ]
    },
    {
      "cell_type": "code",
      "metadata": {
        "id": "flZPD3o5eNXW",
        "colab": {
          "base_uri": "https://localhost:8080/"
        },
        "outputId": "c9f97f53-a839-4bc6-c35b-0ea9f5c50c50"
      },
      "source": [
        "fruits = ['apple','kiwi','orange']\n",
        "# your code here (create a list of your favourite fruits)\n",
        "len_fruits =[5,4,6]\n",
        "\n",
        "print(fruits)\n",
        "print(len_fruits)"
      ],
      "execution_count": 4,
      "outputs": [
        {
          "output_type": "stream",
          "text": [
            "['apple', 'kiwi', 'orange']\n",
            "[5, 4, 6]\n"
          ],
          "name": "stdout"
        }
      ]
    },
    {
      "cell_type": "markdown",
      "metadata": {
        "id": "q07oOsRCeNXW"
      },
      "source": [
        "The above output is shown if fruits = ['apple','kiwi,'orange'], it can vary for different values of fruits"
      ]
    },
    {
      "cell_type": "markdown",
      "metadata": {
        "id": "IDDz4_e0eNXW"
      },
      "source": [
        "## String value and operators"
      ]
    },
    {
      "cell_type": "markdown",
      "metadata": {
        "id": "qps_eW_PeNXW"
      },
      "source": [
        "<p style='text-align: right;'> 1 + 1 + 1 + 1 + 1 = 5 points </p>\n"
      ]
    },
    {
      "cell_type": "markdown",
      "metadata": {
        "id": "6Ipf08Q7eNXW"
      },
      "source": [
        "### Characters in strings\n",
        "\n",
        "Reference:-  https://youtu.be/LnQDWIMaJlA"
      ]
    },
    {
      "cell_type": "code",
      "metadata": {
        "id": "OoTi1ofVeNXW"
      },
      "source": [
        "# declare the variables x and y\n",
        "\n",
        "x = 'cat' #your code here\n",
        "y ='dog' #your code here\n"
      ],
      "execution_count": 1,
      "outputs": []
    },
    {
      "cell_type": "code",
      "metadata": {
        "id": "XAIFbrDTeNXX",
        "colab": {
          "base_uri": "https://localhost:8080/"
        },
        "outputId": "33745865-bf2c-44e4-cb47-91a7379a99d0"
      },
      "source": [
        "#Print both the strings\n",
        "print(x)\n",
        "print(y)\n"
      ],
      "execution_count": 2,
      "outputs": [
        {
          "output_type": "stream",
          "text": [
            "cat\n",
            "dog\n"
          ],
          "name": "stdout"
        }
      ]
    },
    {
      "cell_type": "code",
      "metadata": {
        "id": "FWK03roMeNXX",
        "colab": {
          "base_uri": "https://localhost:8080/"
        },
        "outputId": "2b3ca483-b637-493a-db0c-a89adbc3c791"
      },
      "source": [
        "#Print first character of both x and y. \n",
        "\n",
        "print(f\"First ch of x =\",x[0])\n",
        "print(f\"first ch of y =\",y[0])"
      ],
      "execution_count": 5,
      "outputs": [
        {
          "output_type": "stream",
          "text": [
            "First ch of x = c\n",
            "first ch of y = d\n"
          ],
          "name": "stdout"
        }
      ]
    },
    {
      "cell_type": "code",
      "metadata": {
        "id": "h_KwSiO0eNXX",
        "colab": {
          "base_uri": "https://localhost:8080/"
        },
        "outputId": "a227de47-dd3f-47d0-8eb3-a8b0146da7dc"
      },
      "source": [
        "#Print last character of both x and y.\n",
        "print(f\"last ch of x =\",x[-1])\n",
        "print(f\"last ch of y =\",y[-1])\n"
      ],
      "execution_count": 8,
      "outputs": [
        {
          "output_type": "stream",
          "text": [
            "last ch of x = t\n",
            "last ch of y = g\n"
          ],
          "name": "stdout"
        }
      ]
    },
    {
      "cell_type": "code",
      "metadata": {
        "id": "0wkKYH5deNXX",
        "colab": {
          "base_uri": "https://localhost:8080/"
        },
        "outputId": "2d90d452-72ed-467a-ba3e-3096587909ba"
      },
      "source": [
        "#Print len of both x and y\n",
        "print(f\"Length of x is\",len(x))\n",
        "print(f\"Length of y is\",len(y))\n",
        "\n"
      ],
      "execution_count": 9,
      "outputs": [
        {
          "output_type": "stream",
          "text": [
            "Length of x is 3\n",
            "Length of y is 3\n"
          ],
          "name": "stdout"
        }
      ]
    },
    {
      "cell_type": "code",
      "metadata": {
        "id": "7MTxU6BDeNXX",
        "colab": {
          "base_uri": "https://localhost:8080/"
        },
        "outputId": "f4c5dbb8-d073-4b16-c604-9587a814f373"
      },
      "source": [
        "#concatenate both x and y and store it in variable z and print z\n",
        "z = x + y\n",
        "print(z)\n"
      ],
      "execution_count": 10,
      "outputs": [
        {
          "output_type": "stream",
          "text": [
            "catdog\n"
          ],
          "name": "stdout"
        }
      ]
    },
    {
      "cell_type": "code",
      "metadata": {
        "id": "hF-zdXhceNXX",
        "colab": {
          "base_uri": "https://localhost:8080/"
        },
        "outputId": "3ae84654-0796-40f8-f632-2550ed719f27"
      },
      "source": [
        "#check if x is part of z \n",
        "if x in z:\n",
        "  print(True)\n",
        "\n",
        "\n"
      ],
      "execution_count": 17,
      "outputs": [
        {
          "output_type": "stream",
          "text": [
            "True\n"
          ],
          "name": "stdout"
        }
      ]
    },
    {
      "cell_type": "markdown",
      "metadata": {
        "id": "clm-IjeGeNXX"
      },
      "source": [
        "### String slicing"
      ]
    },
    {
      "cell_type": "markdown",
      "metadata": {
        "id": "mewIf8iTeNXX"
      },
      "source": [
        "<p style='text-align: right;'> 2 points </p>"
      ]
    },
    {
      "cell_type": "code",
      "metadata": {
        "id": "bsCJMXk6eNXX",
        "colab": {
          "base_uri": "https://localhost:8080/"
        },
        "outputId": "884b3d51-f026-4042-84b2-2af50b865e43"
      },
      "source": [
        "#Create variable a = “pineapple”\n",
        "a = 'pineapple'\n",
        "\n",
        "print(a)"
      ],
      "execution_count": 23,
      "outputs": [
        {
          "output_type": "stream",
          "text": [
            "pineapple\n"
          ],
          "name": "stdout"
        }
      ]
    },
    {
      "cell_type": "code",
      "metadata": {
        "id": "Gx1aw_kieNXY",
        "colab": {
          "base_uri": "https://localhost:8080/"
        },
        "outputId": "f559f5cc-5df4-41b7-c471-3ce6f3356f16"
      },
      "source": [
        "# Using index slicing, print the words ‘pine’ and “apple”.\n",
        "# HINT - a[:]\n",
        "print(a[0:4])\n",
        "print(a[4:])\n"
      ],
      "execution_count": 25,
      "outputs": [
        {
          "output_type": "stream",
          "text": [
            "pine\n",
            "apple\n"
          ],
          "name": "stdout"
        }
      ]
    },
    {
      "cell_type": "code",
      "metadata": {
        "id": "k-rs1GYmeNXY",
        "colab": {
          "base_uri": "https://localhost:8080/"
        },
        "outputId": "01a87afb-f511-46af-c5da-7afe5154a25b"
      },
      "source": [
        "#Convert a into upper case\n",
        "print(a.upper())\n"
      ],
      "execution_count": 28,
      "outputs": [
        {
          "output_type": "stream",
          "text": [
            "PINEAPPLE\n"
          ],
          "name": "stdout"
        }
      ]
    },
    {
      "cell_type": "markdown",
      "metadata": {
        "id": "Z8XcOd5-eNXY"
      },
      "source": [
        "## Sentences"
      ]
    },
    {
      "cell_type": "markdown",
      "metadata": {
        "id": "ReZ5tbFAeNXY"
      },
      "source": [
        "<p style='text-align: right;'> 1+1+1+1+1+1 = 6 points </p>\n"
      ]
    },
    {
      "cell_type": "code",
      "metadata": {
        "id": "dL4G-RTteNXY",
        "colab": {
          "base_uri": "https://localhost:8080/"
        },
        "outputId": "a40074f1-59cc-42be-fc4b-682b40360e66"
      },
      "source": [
        "# Declare a sentence of ‘I am flying to London’\n",
        "sent ='I am flying to London' \n",
        "# your code here\n",
        "\n",
        "print(sent)"
      ],
      "execution_count": 29,
      "outputs": [
        {
          "output_type": "stream",
          "text": [
            "I am flying to London\n"
          ],
          "name": "stdout"
        }
      ]
    },
    {
      "cell_type": "code",
      "metadata": {
        "id": "LA-HL-kaeNXY",
        "colab": {
          "base_uri": "https://localhost:8080/"
        },
        "outputId": "62cb8b19-7f65-4951-bbc7-3eaaada0c0f6"
      },
      "source": [
        "#Print len of the sentence\n",
        "print(f\"Len of sentence is\",len(sent))\n"
      ],
      "execution_count": 30,
      "outputs": [
        {
          "output_type": "stream",
          "text": [
            "Len of sentence is 21\n"
          ],
          "name": "stdout"
        }
      ]
    },
    {
      "cell_type": "code",
      "metadata": {
        "id": "fe-uTW_9eNXY",
        "colab": {
          "base_uri": "https://localhost:8080/"
        },
        "outputId": "0d6d23bd-2fdd-4c27-8499-3c2d24759c49"
      },
      "source": [
        "#Using list comprehension, print the word London\n",
        "sent =['london']\n",
        "for x in sent:\n",
        "\n",
        "  print(sent)\n",
        "\n"
      ],
      "execution_count": 37,
      "outputs": [
        {
          "output_type": "stream",
          "text": [
            "['london']\n"
          ],
          "name": "stdout"
        }
      ]
    },
    {
      "cell_type": "code",
      "metadata": {
        "id": "HIekhMtXeNXY",
        "colab": {
          "base_uri": "https://localhost:8080/"
        },
        "outputId": "9e0ed535-159c-4b31-ac6c-cfcc9a513c95"
      },
      "source": [
        "# Use .split to get list of individual words in the sentence\n",
        "sent = ['I am flying to London']\n",
        "([i for item in sent for i in item.split( )])\n",
        "\n"
      ],
      "execution_count": 48,
      "outputs": [
        {
          "output_type": "execute_result",
          "data": {
            "text/plain": [
              "['I', 'am', 'flying', 'to', 'London']"
            ]
          },
          "metadata": {
            "tags": []
          },
          "execution_count": 48
        }
      ]
    },
    {
      "cell_type": "code",
      "metadata": {
        "id": "2sC0gaIZq-xM"
      },
      "source": [
        ""
      ],
      "execution_count": null,
      "outputs": []
    },
    {
      "cell_type": "code",
      "metadata": {
        "id": "pZdbgHX3eNXZ",
        "colab": {
          "base_uri": "https://localhost:8080/"
        },
        "outputId": "43efad9c-a0d8-4fa2-ae38-f9b8d17c9908"
      },
      "source": [
        "# Convert sentence in lower case \n",
        "sent = 'I am flying to London'\n",
        "print(sent.lower())"
      ],
      "execution_count": 51,
      "outputs": [
        {
          "output_type": "stream",
          "text": [
            "i am flying to london\n"
          ],
          "name": "stdout"
        }
      ]
    },
    {
      "cell_type": "code",
      "metadata": {
        "id": "J2zWMRxTeNXZ",
        "colab": {
          "base_uri": "https://localhost:8080/"
        },
        "outputId": "347d665c-eace-4bce-fe1f-0f9482cf647b"
      },
      "source": [
        "# Convert sentence in upper case .\n",
        "\n",
        "print(sent.upper())"
      ],
      "execution_count": 52,
      "outputs": [
        {
          "output_type": "stream",
          "text": [
            "I AM FLYING TO LONDON\n"
          ],
          "name": "stdout"
        }
      ]
    },
    {
      "cell_type": "markdown",
      "metadata": {
        "id": "OIX_zec1eNXZ"
      },
      "source": [
        "## Functions"
      ]
    },
    {
      "cell_type": "markdown",
      "metadata": {
        "id": "L0vLAhsKeNXZ"
      },
      "source": [
        "### Declare a function which  takes input as x, and returns the square of x. \n",
        "Reference:- https://youtu.be/Rpq9MC67M08"
      ]
    },
    {
      "cell_type": "markdown",
      "metadata": {
        "id": "arAkBy9SeNXZ"
      },
      "source": [
        "<p style='text-align: right;'> 5 + 3 = 8 points </p>\n"
      ]
    },
    {
      "cell_type": "code",
      "metadata": {
        "id": "hSiSaciReNXZ"
      },
      "source": [
        "def square(x):\n",
        "  '''\n",
        "    square = []\n",
        "    for i in square:\n",
        "      i.append(i**2)\n",
        "      print(i)\n",
        "      '''\n",
        "    \n",
        "  return x*x"
      ],
      "execution_count": 64,
      "outputs": []
    },
    {
      "cell_type": "markdown",
      "metadata": {
        "id": "h-gWhymNeNXZ"
      },
      "source": [
        "Call the function to find the value of square of 9."
      ]
    },
    {
      "cell_type": "code",
      "metadata": {
        "id": "n39wXazoeNXZ",
        "colab": {
          "base_uri": "https://localhost:8080/"
        },
        "outputId": "cb59183b-d13c-4267-cabb-4690c6f51b22"
      },
      "source": [
        "# find the value of square of 9 using the function squ\n",
        "o = square(9)\n",
        "print(f\"Square of 9 is \",o)"
      ],
      "execution_count": 66,
      "outputs": [
        {
          "output_type": "stream",
          "text": [
            "Square of 9 is  81\n"
          ],
          "name": "stdout"
        }
      ]
    },
    {
      "cell_type": "markdown",
      "metadata": {
        "id": "kbMd0a5OeNXZ"
      },
      "source": [
        "### Define another function which checks whether a given number if odd or even, for a given input, it should print whether the given number is odd or even. "
      ]
    },
    {
      "cell_type": "markdown",
      "metadata": {
        "id": "GlFY1uvReNXZ"
      },
      "source": [
        "<p style='text-align: right;'> 5 + 3 = 8 points </p>\n"
      ]
    },
    {
      "cell_type": "code",
      "metadata": {
        "id": "Oja7v27TeNXa"
      },
      "source": [
        "# your code here\n",
        "def check_odd_even(x):\n",
        "    if x%2 == 0:\n",
        "       print(f\"{x} is even\")\n",
        "    else:\n",
        "       print(f\"{x} is odd\")"
      ],
      "execution_count": 69,
      "outputs": []
    },
    {
      "cell_type": "markdown",
      "metadata": {
        "id": "qePe7xTqeNXa"
      },
      "source": [
        "Using both the functions to check whether the square of 3,6,21 is odd or even.\n"
      ]
    },
    {
      "cell_type": "code",
      "metadata": {
        "id": "SvPD7KIReNXa",
        "colab": {
          "base_uri": "https://localhost:8080/"
        },
        "outputId": "1b855bee-dd30-4d46-ca6f-96209aba5741"
      },
      "source": [
        " # your code here\n",
        "check_odd_even(3)\n",
        "check_odd_even(6)\n",
        "check_odd_even(21)\n"
      ],
      "execution_count": 70,
      "outputs": [
        {
          "output_type": "stream",
          "text": [
            "3 is odd\n",
            "6 is even\n",
            "21 is odd\n"
          ],
          "name": "stdout"
        }
      ]
    },
    {
      "cell_type": "markdown",
      "metadata": {
        "id": "jq3_yMKzeNXa"
      },
      "source": [
        "# Loops and Iterations\n",
        "Reference:- https://youtu.be/6iF8Xb7Z3wQ"
      ]
    },
    {
      "cell_type": "markdown",
      "metadata": {
        "id": "PkaQt5bFeNXa"
      },
      "source": [
        "## If statement"
      ]
    },
    {
      "cell_type": "markdown",
      "metadata": {
        "id": "OvyolCD9eNXa"
      },
      "source": [
        "<p style='text-align: right;'> 1 + 2 + 3 = 6 points </p>\n"
      ]
    },
    {
      "cell_type": "code",
      "metadata": {
        "id": "TFWHRdSIeNXa",
        "colab": {
          "base_uri": "https://localhost:8080/"
        },
        "outputId": "a3f50571-6eb7-4a89-caf4-89a17e176b66"
      },
      "source": [
        "#Declare a variable x equal to a number of your choice.\n",
        "#your code here\n",
        "x = 4 # add a number of your choice (mine is 3 :) )\n",
        "print(x)"
      ],
      "execution_count": 71,
      "outputs": [
        {
          "output_type": "stream",
          "text": [
            "4\n"
          ],
          "name": "stdout"
        }
      ]
    },
    {
      "cell_type": "code",
      "metadata": {
        "id": "5zdIP9qkeNXa",
        "colab": {
          "base_uri": "https://localhost:8080/"
        },
        "outputId": "2dc85798-1f4a-44b1-9151-965bc5aa97cf"
      },
      "source": [
        "#Using an if statement, print whether the number is 0, positive or negative.\n",
        "if x == 0:\n",
        "  print(f\"{x} is zero\")\n",
        "elif x > 0:\n",
        "  print(f\"{x} is positive\")\n",
        "else:\n",
        "  print(f\"{x} is negative\")\n"
      ],
      "execution_count": 77,
      "outputs": [
        {
          "output_type": "stream",
          "text": [
            "4 is positive\n"
          ],
          "name": "stdout"
        }
      ]
    },
    {
      "cell_type": "code",
      "metadata": {
        "id": "l5LgRlqpeNXa",
        "colab": {
          "base_uri": "https://localhost:8080/"
        },
        "outputId": "96b92dba-fe29-45b6-d941-a2be7b727a42"
      },
      "source": [
        "# Define a function, which takes input from the user and prints whether the given input is 0,positive or negative.\n",
        "\n",
        "def check_num(x):\n",
        "    if x == 0:\n",
        "      print(f\"{x} is zero\")\n",
        "    elif x > 0:\n",
        "      print(f\"{x} is positive\")\n",
        "    else:\n",
        "      print(f\"{x} is negative\")\n",
        "\n",
        "\n",
        "\n",
        "check_num(10)\n",
        "check_num(-2)\n",
        "check_num(0)"
      ],
      "execution_count": 78,
      "outputs": [
        {
          "output_type": "stream",
          "text": [
            "10 is positive\n",
            "-2 is negative\n",
            "0 is zero\n"
          ],
          "name": "stdout"
        }
      ]
    },
    {
      "cell_type": "code",
      "metadata": {
        "id": "44Ix9OtHMv8d"
      },
      "source": [
        ""
      ],
      "execution_count": null,
      "outputs": []
    },
    {
      "cell_type": "markdown",
      "metadata": {
        "id": "t_Wm6qQteNXa"
      },
      "source": [
        "## For loop"
      ]
    },
    {
      "cell_type": "markdown",
      "metadata": {
        "id": "5WW-_3D2eNXb"
      },
      "source": [
        "<p style='text-align: right;'> 2 points </p>\n"
      ]
    },
    {
      "cell_type": "code",
      "metadata": {
        "id": "1kfN4juZeNXb"
      },
      "source": [
        "#Create a list x, such that it contains the elements - ‘India’, ‘Israel’,’Canada’.\n",
        "\n",
        "x = [\"India\",\"Isreal\",\"Canada\"]"
      ],
      "execution_count": 81,
      "outputs": []
    },
    {
      "cell_type": "code",
      "metadata": {
        "id": "yfLGZTl7NDeT"
      },
      "source": [
        ""
      ],
      "execution_count": null,
      "outputs": []
    },
    {
      "cell_type": "code",
      "metadata": {
        "id": "pCpvEYO4eNXb",
        "colab": {
          "base_uri": "https://localhost:8080/"
        },
        "outputId": "b7cae240-d158-47ce-a143-b65533803ca7"
      },
      "source": [
        "#Using For loop, iterate over the list and print the elements.\n",
        "\n",
        "x = [\"India\",\"Isreal\",\"Canada\"]\n",
        "for i in x:\n",
        "  print(x)"
      ],
      "execution_count": 83,
      "outputs": [
        {
          "output_type": "stream",
          "text": [
            "['India', 'Isreal', 'Canada']\n",
            "['India', 'Isreal', 'Canada']\n",
            "['India', 'Isreal', 'Canada']\n"
          ],
          "name": "stdout"
        }
      ]
    },
    {
      "cell_type": "markdown",
      "metadata": {
        "id": "Rim9K3pceNXb"
      },
      "source": [
        "<p style='text-align: right;'> 2 points </p>\n"
      ]
    },
    {
      "cell_type": "code",
      "metadata": {
        "id": "rx3tbYM9eNXb",
        "colab": {
          "base_uri": "https://localhost:8080/"
        },
        "outputId": "c2e582db-da7d-4c0c-fc9b-56553f5546ec"
      },
      "source": [
        "# Using For loop, print the table of 2.\n",
        "num = 2\n",
        "for i in range(2,11):\n",
        "  print(num, '*', i, '=', num*i)"
      ],
      "execution_count": 87,
      "outputs": [
        {
          "output_type": "stream",
          "text": [
            "2 * 2 = 4\n",
            "2 * 3 = 6\n",
            "2 * 4 = 8\n",
            "2 * 5 = 10\n",
            "2 * 6 = 12\n",
            "2 * 7 = 14\n",
            "2 * 8 = 16\n",
            "2 * 9 = 18\n",
            "2 * 10 = 20\n"
          ],
          "name": "stdout"
        }
      ]
    },
    {
      "cell_type": "code",
      "metadata": {
        "id": "B_rg9gO3U8hd"
      },
      "source": [
        ""
      ],
      "execution_count": null,
      "outputs": []
    },
    {
      "cell_type": "markdown",
      "metadata": {
        "id": "TYlQTnLeeNXb"
      },
      "source": [
        "For a given list, x = [21, ‘hello,’cream’, 20,19,’village’], using for loop to iterate over the items and using - if statement print the items that are of type int"
      ]
    },
    {
      "cell_type": "code",
      "metadata": {
        "id": "zPb6Xn4PeNXb",
        "colab": {
          "base_uri": "https://localhost:8080/"
        },
        "outputId": "2cc38970-31d5-456a-9a06-944a6076414b"
      },
      "source": [
        "#code here\n",
        "\n",
        "x = [21 ,'hello','cream',20,19,'village']\n",
        "for i in x:\n",
        "  if type(i) == int:\n",
        "    print(abs(i))\n",
        "\n",
        "   \n"
      ],
      "execution_count": 92,
      "outputs": [
        {
          "output_type": "stream",
          "text": [
            "21\n",
            "20\n",
            "19\n"
          ],
          "name": "stdout"
        }
      ]
    },
    {
      "cell_type": "code",
      "metadata": {
        "id": "l2jIWuE8Y7JE"
      },
      "source": [
        ""
      ],
      "execution_count": null,
      "outputs": []
    },
    {
      "cell_type": "markdown",
      "metadata": {
        "id": "KBkudqyteNXb"
      },
      "source": [
        "Using For loop, create the following pattern. "
      ]
    },
    {
      "cell_type": "markdown",
      "metadata": {
        "id": "zp2ASyFFeNXb"
      },
      "source": [
        "<p style='text-align: right;'> 10 points </p>\n"
      ]
    },
    {
      "cell_type": "code",
      "metadata": {
        "id": "SUuCztSneNXb",
        "outputId": "6423960a-4963-44be-f803-59d803901793"
      },
      "source": [
        "# print the following pattern"
      ],
      "execution_count": null,
      "outputs": [
        {
          "output_type": "stream",
          "text": [
            "* \r\n",
            "* * \r\n",
            "* * * \r\n",
            "* * * * \r\n",
            "* * * * * \r\n"
          ],
          "name": "stdout"
        }
      ]
    },
    {
      "cell_type": "code",
      "metadata": {
        "id": "1f5mhGWWeNXc",
        "colab": {
          "base_uri": "https://localhost:8080/"
        },
        "outputId": "1deacc9a-6a3d-4560-8944-a8270a2bde50"
      },
      "source": [
        "#your code here\n",
        "for row in range(1,6):\n",
        "  for column in range(1,row+1):\n",
        "    print(\"*\", end =\" \")\n",
        "  print()\n",
        "\n"
      ],
      "execution_count": 2,
      "outputs": [
        {
          "output_type": "stream",
          "text": [
            "* \n",
            "* * \n",
            "* * * \n",
            "* * * * \n",
            "* * * * * \n"
          ],
          "name": "stdout"
        }
      ]
    },
    {
      "cell_type": "markdown",
      "metadata": {
        "id": "jE2Yqu-1eNXc"
      },
      "source": [
        "## While loop"
      ]
    },
    {
      "cell_type": "markdown",
      "metadata": {
        "id": "7F80GCJxeNXc"
      },
      "source": [
        "- Using while loop make a function that prints all the values between 1 to n. "
      ]
    },
    {
      "cell_type": "markdown",
      "metadata": {
        "id": "eYnlKrJeeNXc"
      },
      "source": [
        "<p style='text-align: right;'> 10 points </p>\n"
      ]
    },
    {
      "cell_type": "code",
      "metadata": {
        "id": "hmhgUZ9ReNXc"
      },
      "source": [
        "def counter(n):\n",
        "    # add your code here\n",
        "    i= 1\n",
        "    while i<n:\n",
        "     print(i)\n",
        "     i+=1"
      ],
      "execution_count": 18,
      "outputs": []
    },
    {
      "cell_type": "code",
      "metadata": {
        "id": "SHWDY_QyeNXc",
        "colab": {
          "base_uri": "https://localhost:8080/"
        },
        "outputId": "e5881183-eb60-421c-e9df-4046aabaf005"
      },
      "source": [
        "print(counter(10)) #this should print numbers from 1 to 10"
      ],
      "execution_count": 19,
      "outputs": [
        {
          "output_type": "stream",
          "text": [
            "1\n",
            "2\n",
            "3\n",
            "4\n",
            "5\n",
            "6\n",
            "7\n",
            "8\n",
            "9\n",
            "None\n"
          ],
          "name": "stdout"
        }
      ]
    },
    {
      "cell_type": "markdown",
      "metadata": {
        "id": "6VhKFcUUeNXc"
      },
      "source": [
        "### Write the code for the following, what is the output obtained?\n",
        "- Set a variable flag = True, num = 5\n",
        "- Run a while loop till flag = True\n",
        "- Inside the while loop - \n",
        "    - Increment the value of num by 5\n",
        "    - If value of num is greater then 50, set flag to be False"
      ]
    },
    {
      "cell_type": "code",
      "metadata": {
        "id": "tbaduSb4eNXc",
        "colab": {
          "base_uri": "https://localhost:8080/"
        },
        "outputId": "4702f560-64bd-4d09-bb1e-f81ec57479ce"
      },
      "source": [
        "# your code here\n",
        "num = 5\n",
        "x = True\n",
        "while x:\n",
        "  num+=5\n",
        "  print(num)\n",
        "  if num >50:\n",
        "     x = False\n",
        "\n",
        "\n",
        "\n",
        "\n"
      ],
      "execution_count": 33,
      "outputs": [
        {
          "output_type": "stream",
          "text": [
            "10\n",
            "15\n",
            "20\n",
            "25\n",
            "30\n",
            "35\n",
            "40\n",
            "45\n",
            "50\n",
            "55\n"
          ],
          "name": "stdout"
        }
      ]
    },
    {
      "cell_type": "markdown",
      "metadata": {
        "id": "ceWwq4PgeNXd"
      },
      "source": [
        "----------------------------------------------------------------------"
      ]
    },
    {
      "cell_type": "markdown",
      "metadata": {
        "id": "52T19XOpeNXd"
      },
      "source": [
        "# Smile, you completed the first milestone :)!! "
      ]
    },
    {
      "cell_type": "markdown",
      "metadata": {
        "id": "CG6h_jBBkqhy"
      },
      "source": [
        "# FeedBack\n",
        "We hope you’ve enjoyed this course so far. We’re committed to help you use \"AI for All\" course to its full potential, so that you have a great learning experience. And that’s why we need your help in form of a feedback here.\n",
        "\n",
        "**Please fill this feedback form**\n",
        "https://docs.google.com/forms/d/e/1FAIpQLSfjBmH0yJSSA34IhSVx4h2eDMgOAeG4Dk-yHid__NMTk3Hq5g/viewform"
      ]
    },
    {
      "cell_type": "code",
      "metadata": {
        "id": "LYKEi6SXeKdY"
      },
      "source": [
        ""
      ],
      "execution_count": null,
      "outputs": []
    }
  ]
}